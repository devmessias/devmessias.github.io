{
 "cells": [
  {
   "cell_type": "markdown",
   "metadata": {},
   "source": [
    "---\n",
    "\n",
    "title: \"Variações do teorema do limite central para matrizes aleatórias: de núcleos atômicos a otimização de carteira\"\n",
    "\n",
    "categories: []\n",
    "\n",
    "date: '2021-11-08T00:00:00Z' \n",
    "\n",
    "draft: false \n",
    "\n",
    "featured: no\n",
    "\n",
    "gallery_item: null\n",
    "\n",
    "header:\n",
    "  caption: \"\"\n",
    "  image: \"emate_logo.png\"\n",
    "\n",
    "image:\n",
    "  caption: \n",
    "  focal_point: \n",
    "  preview_only: \n",
    "\n",
    "projects: ['divulgação', 'open-source', 'learn in public']\n",
    "\n",
    "subtitle: Análogos do teorema do limite central para matrizes aleatórias\n",
    "\n",
    "summary:  Discutiremos aqui como é possível ouvir matrizes de correlação usando seu espectro. E como podemos analisar esse \"*barulho*\" usando resultados da teoria de matrizes aleatórias.\n",
    "\n",
    "tags: \n",
    "- portfolio\n",
    "- carteira\n",
    "- matrizes aleatórias\n",
    "- teoria espectral\n",
    "- física\n",
    "- python\n",
    "- otmização\n",
    "- autovalores\n",
    "- história da ciência\n",
    "authors:\n",
    "- Bruno Messias\n",
    "\n",
    "\n",
    "---\n",
    "\n",
    "No célebre trabalho “*Can One Hear the Shape of a Drum?*”[1] Kack questiona se conhecendo o espectro (*som*) de um certo operador que define as oscilações de uma membrana (*tambor*) seria possível identificar o formato de tal membrana de maneira unívoca. Discutiremos aqui como é possível ouvir matrizes de correlação usando seu espectro e como podemos remover o ruído desse som usando resultados da teoria de matrizes aleatórias. Veremos como essa filtragem pode aprimorar algoritmos de construção de carteiras de investimentos.\n",
    "\n",
    "> Se você é sem tempo recomendo dar uma olhada na seção **5** onde eu esclareço as limitações, casos em que RMT (Random Matrix Theory) são indiscultivelmente úteis e/ou necessárias, dificuldades em algumas abordagens inclusive na filtragem de matrizes de correlação."
   ]
  },
  {
   "cell_type": "markdown",
   "metadata": {},
   "source": [
    "\n",
    "# 1-Introdução: teorema do limite central\n",
    "O teorema do limite central está no coração da análise estatística. Em poucas palavras o mesmo estabelece o seguinte.\n",
    "\n",
    "> Suponha uma amostra $A = (x_1, x_2, \\dots, x_n)$ de uma variável aleatória com média $\\mu$ e variância $\\sigma^2$ finita. Se a amostragem é $i.i.d.$ o teorema do limite central estabelece que a \n",
    ">  distribuição de probababilidade da média amostral converge \n",
    "> para uma distribuição normal com variância $\\sigma^2/n$ e média $\\mu$ a medida que $n$ aumenta.\n",
    "\n",
    "É importante notar que eu não disse nada a respeito de como tal amostra foi gerada; em nenhum momento citei distribuição de Bernoulli, Gauss, Poisson, etc. Desta maneira podemos dizer que tal convergência é uma propriedade **universal** de amostras aleatórias $i.i.d.$. Essa universalidade é poderosa, pois  garante que é possível estimar a média e variância de uma população  através de um conjunto de amostragens. \n",
    "\n",
    "Não é difícil fazer um experimento computacional onde a implicação desse teorema apareça\n",
    "\n"
   ]
  },
  {
   "cell_type": "code",
   "execution_count": 1,
   "metadata": {},
   "outputs": [],
   "source": [
    "import numpy as np\n",
    "import matplotlib.pyplot as plt\n",
    "import pandas as pd\n",
    "import seaborn as sns\n",
    "import warnings\n",
    "from matplotlib import style\n",
    "\n",
    "warnings.filterwarnings('ignore')\n",
    "style.use('seaborn-white')"
   ]
  },
  {
   "cell_type": "markdown",
   "metadata": {},
   "source": [
    "Usaremos uma amostragem de uma distribuição exponencial com média apróximada $\\mu = 4$. Tal distribuição tem uma variância dada por $1/\\mu^2$. Faremos $10000$ experimentos com amostras de tamanho $500$. Posteriormente calcularemos a media de cada experimento, `mean_by_exp`"
   ]
  },
  {
   "cell_type": "code",
   "execution_count": 33,
   "metadata": {},
   "outputs": [],
   "source": [
    "rate = 0.25\n",
    "\n",
    "mu = 1/rate\n",
    "\n",
    "sample_size=500\n",
    "exponential_sample = np.random.exponential(mu, size=(sample_size, 30000))\n",
    "mean_by_exp = exponential_sample.mean(axis=0)"
   ]
  },
  {
   "cell_type": "markdown",
   "metadata": {},
   "source": [
    "Agora basta plotar o histograma em comparação com a distribuição normal dada pelo teorema do limite central"
   ]
  },
  {
   "cell_type": "code",
   "execution_count": 57,
   "metadata": {},
   "outputs": [],
   "source": [
    "sns.distplot(mean_by_exp, norm_hist=True, label='sample')\n",
    "x = np.linspace(2.5, 5.5, 100)\n",
    "var = mu**2/(sample_size)\n",
    "y = np.exp(-(x-mu)**2/(2*var))/np.sqrt(2*np.pi*var)\n",
    "plt.plot(x, y, label=r'$N(\\mu, \\sigma)$', c='tomato')\n",
    "plt.legend()\n",
    "plt.xlim(3., 5)\n",
    "plt.savefig('exponential_distribution.png', facecolor='w')\n",
    "plt.close()"
   ]
  },
  {
   "cell_type": "markdown",
   "metadata": {},
   "source": [
    "![\"exponential_distribution.png\"](exponential_distribution.png)"
   ]
  },
  {
   "cell_type": "markdown",
   "metadata": {},
   "source": [
    "Note  na figura acima que o plot para a função $\\frac{e^{-\\frac{(x-\\mu)^2}{2\\sigma^2}}}{\\sqrt(2\\pi\\sigma^2)}$ e o histograma coincidem.  Você pode testar essa coincidência com outras distribuições, o mesmo comportamento se repetira. É isso que quero dizer com **universalidade**.\n",
    "\n",
    "Um questionamento válido é que estamos tratando apenas de uma variável aleatória e sua amostragem. Mas no mundo real existem outras estruturas mais intricadas, por exemplo\n",
    " pegue um conjunto de variáveis aleatórias \n",
    "$\\mathcal C=(X_{1 1}, X_{1 2}, \\cdots, X_{N N})$,  suponha que exista uma certa **simetria** nesse conjunto, uma possibilidade é $X_{i j} = X_{j i}$.\n",
    "Não é difícil imaginar situações onde tal conjunto apareça. \n",
    "\n",
    "Podemos armazenar uma realização de $\\mathcal C$ em uma matriz que nada mais é que um grafo completo com pesos. Ao estudar essas matrizes oriundas desse tipo de amostragem entramos em um novo campo da matemática, o campo das matrizes aleatórias. \n",
    "Nesse campo de estudos uma amostragem não retorna um número, mas sim uma matriz.\n",
    "\n",
    "A função `normalRMT` apresentada abaixo é um gerador de matrizes aleatórias conhecidas como Gaussianas ortogonais."
   ]
  },
  {
   "cell_type": "code",
   "execution_count": 2,
   "metadata": {},
   "outputs": [
    {
     "name": "stdout",
     "output_type": "stream",
     "text": [
      "[[-1.441e+00 -2.585e-01 -1.349e-01]\n",
      " [-2.585e-01 -2.304e-01  1.166e-03]\n",
      " [-1.349e-01  1.166e-03 -1.272e+00]],\n",
      "\n",
      "[[-0.742  0.607 -0.34 ]\n",
      " [ 0.607  0.678  0.277]\n",
      " [-0.34   0.277 -0.127]]\n"
     ]
    }
   ],
   "source": [
    "def normalRMT(n=100):\n",
    "    std = 1/np.sqrt(2)\n",
    "    m = np.random.normal(size=(n,n), scale=std)\n",
    "    m = (m+m.T)\n",
    "    m /= np.sqrt(n)\n",
    "    return m\n",
    "np.set_printoptions(precision=3)\n",
    "print(f'{normalRMT(3)},\\n\\n{normalRMT(3)}')"
   ]
  },
  {
   "cell_type": "markdown",
   "metadata": {},
   "source": [
    "Bom, sabemos que quando estamos trantando de variáveis aleatórias  o teorema do limite central é importantíssimo. O que você pode se perguntar agora é: **Existe um análogo para o teorema do limite central para matrizes aleatórias?**"
   ]
  },
  {
   "cell_type": "markdown",
   "metadata": {},
   "source": [
    "# 2-Núcleos atômicos, gás de números primos e universalidade\n",
    "\n",
    "\n",
    "$$\n",
    "H\\Psi_n = E\\Psi_n\n",
    "$$\n",
    "\n",
    "Mesmo que fosse possível confecionar um algoritmo que resolve a equação em um tempo de vida do universo ainda não seria simples, pois não se conhecia a expressão para H.  \n",
    "\n",
    "Bom, e como os físicos estudaram núcleos pesados na epóca? Do mesmo jeito que se estuda muitas coisas em física: pegando se uma coisa conhecida e jogando na direção da coisa a ser estudada. Fazendo isso, com experimentos de colisão de neutrons com núcleos de urânio era possível amostrar alguns valores possíveis para E. "
   ]
  },
  {
   "cell_type": "markdown",
   "metadata": {},
   "source": [
    "![](frog.png)"
   ]
  },
  {
   "cell_type": "markdown",
   "metadata": {},
   "source": [
    "-  As interações em tal sistema são demasidadmente complexas e sujeitas a uma infinidade de parâmetros\n",
    "- Embora o sistema seja complicado, ele respeita algumas simetrias que permanecem inalteradas. Tais simetrias estão presentes na matriz $H$\n",
    "- Suponha que eu consiga um sistema representado por uma matriz $G$ que respeite as mesmas simetrias de $H$. \n",
    "\n"
   ]
  },
  {
   "cell_type": "markdown",
   "metadata": {},
   "source": [
    "## 2-a) Universalidade e lei do semi-circulo\n",
    "\n",
    "\n",
    "A função `normalRMT` gera uma matriz simétrica onde as entradas são extraídas de uma distribuição normal. A função `laplaceRMT` gera também uma matriz simétrica, contudo as entradas são amostras de uma distribuição de Laplace."
   ]
  },
  {
   "cell_type": "code",
   "execution_count": 3,
   "metadata": {},
   "outputs": [],
   "source": [
    "\n",
    "def laplaceRMT(n=100):\n",
    "    # we know that the variance of the laplace distribution is 2*scale**2\n",
    "    scale = 1/np.sqrt(2)\n",
    "    m = np.zeros((n,n))\n",
    "\n",
    "    values = np.random.laplace(size=n*(n-1)//2, scale=scale)\n",
    "    m[np.triu_indices_from(m, k=1)] = values\n",
    "    # copy the upper diagonal to the lower diagonal\n",
    "    m[np.tril_indices_from(m, k=-1)] = values \n",
    "    np.fill_diagonal(m, np.random.laplace(size=n, scale=scale))\n",
    "    m = m/np.sqrt(n)\n",
    "    return m"
   ]
  },
  {
   "cell_type": "markdown",
   "metadata": {},
   "source": [
    "As propriedades **universais** que iremos explorar aqui estão ligadas aos autovalores das matrizes que foram amostradas. Como nossas matrizes são simétricas  esses autovalores são todos reais.\n",
    "\n",
    "Como cada matriz é diferente os autovalores também serão, eles também são variáveis aleatórias."
   ]
  },
  {
   "cell_type": "code",
   "execution_count": 4,
   "metadata": {},
   "outputs": [],
   "source": [
    "vals_laplace = np.array([\n",
    "    np.linalg.eigh(laplaceRMT(n=100))[0]\n",
    "    for i in range(100)\n",
    "])\n",
    "vals_normal = np.array([\n",
    "    np.linalg.eigh(normalRMT(n=100))[0]\n",
    "    for i in range(100)\n",
    "])"
   ]
  },
  {
   "cell_type": "markdown",
   "metadata": {},
   "source": [
    "Na decáda de 50 não havia poder computacional \n",
    "suficiente para realizar investigações númericas, mas você pode facilmente investigar como os  autovalores se distribuem usando seu computador e gerando os histogramas"
   ]
  },
  {
   "cell_type": "code",
   "execution_count": 5,
   "metadata": {},
   "outputs": [],
   "source": [
    "t = 1\n",
    "x  =   np.linspace(-2*t, 2*t, 100)\n",
    "y =  np.zeros_like(x)\n",
    "x0 = x[4*t-x*2>0]\n",
    "y[4*t-x*2>0] = np.sqrt(4*t-x0**2)/(2*np.pi*t)\n",
    "\n",
    "plt.figure(facecolor='white')\n",
    "plt.hist(vals_laplace.flatten(), bins=50, \n",
    "hatch ='|',\n",
    "density=True, label='laplace', alpha=.2)\n",
    "plt.hist(vals_normal.flatten(), bins=50,\n",
    "hatch ='o', \n",
    "density=True, label='normal', alpha=.2)\n",
    "#sns.distplot(vals_laplace, norm_hist=True, label='Laplace')\n",
    "#sns.distplot(vals_normal, norm_hist=True, label='Normal')\n",
    "#sns.distplot(vals2, norm_hist=True, label='sample2')\n",
    "plt.plot(x, y, label='analytical')\n",
    "plt.xlabel(r'$\\lambda$')\n",
    "plt.ylabel(r'$\\rho(\\lambda)$')\n",
    "plt.legend()\n",
    "plt.savefig('RMT_distribution.png', facecolor='w')\n",
    "plt.close()"
   ]
  },
  {
   "cell_type": "markdown",
   "metadata": {},
   "source": [
    "![](RMT_distribution.png)"
   ]
  },
  {
   "cell_type": "markdown",
   "metadata": {},
   "source": [
    "Veja na figura acima que a distribuição de autovalores de matrizes simétricas  relacionadas com a distribuição normal e de Laplace coincidem. O que estamos vendo aqui é uma propriedade **universal**! Espero que você acredite em mim, mas dado que você tenha uma matriz aleatória simétrica, quadrada e se as entradas são $i.i.d.$  a distribuição de autovalores seguem o que é conhecido como lei de semi-circulo de Wigner. Se a média e variância das entradas da matriz são  $0$ e $1$  respectivamente, então tal lei tem a seguinte expressão para a distribuição de probabilidade dos autovalores\n",
    "$$\n",
    "\\rho(\\lambda) = \\begin{cases}\n",
    "\\frac{\\sqrt{4-\\lambda^2}}{(2\\pi)}  \\textrm{ se } 4-\\lambda^2 \\leq 0\\newline\n",
    "0  \\textrm{ caso contrário.} \n",
    "\\end{cases}\n",
    "$$\n",
    "\n",
    "  Se trocarmos as simetrias, restrições ou formato (`array.shape[0]!=array.shape[1]`) das matrizes podemos encontrar variações  da distribuição apresentada acima. Exemplo se a matriz é complexa mas Hermitiana, ou  se é \"retangular\" e real tal como algums matrizes que são usadas para otimizar carteiras de investimento. A próxima seção mostrará um caso com outro formato para universalidade.\n"
   ]
  },
  {
   "cell_type": "markdown",
   "metadata": {},
   "source": [
    "## 2-b) Números primos se repelem? \n"
   ]
  },
  {
   "cell_type": "markdown",
   "metadata": {},
   "source": [
    "Inciamos nosso texto falando sobre como a teoria de matrizes aleatórias floreceu com os estudos estatísticos de núcleos atômicos pesados, especificamente nos trabalhos de Wigner. Embora tenha essa origem, muitas vezes ferramentas matemáticas desenvolvidas apenas por motivações práticas alcançam outros ramos da matemática. Brevemente discutirei aqui alguns pontos e relações com uma das conjecturas mais famosas da matemática: a hipótese de Riemann.\n",
    "\n",
    "\n",
    "Qualquer pessoa com alguma curiosidade sobre matemática já ouviu falar sobre a hipótese de Riemann. Essa hipótese estabele uma relação entre os zeros da função zeta de Riemann e a distribuição de números primos.  Dada sua importância os maiores ciêntistas do século XX se debruçaram sobre ela almejando a imortalidade. Um desses ciêntistas foi  Hugh Montgomery[4]. \n",
    "\n",
    "Por volta de 1970 Montgomery notou que os zeros da função zeta tinham uma certa propriedade cuirosa, pareciam repelir uns aos outros. Uma expressão foi obtidada,  que é a seguinte\n",
    "\n",
    "$$\n",
    "1 - \\left( \\frac{\\sin (\\pi u)}{\\pi u}\\right)^2 + \\delta(u)\n",
    "$$\n",
    "\n",
    "Não se preocupe em entender a expressão acima, ela está aqui apenas for motivos estéticos. \n",
    "O que importa é que ela é simples, tanto que quando   Freeman Dyson  - um dos gigantes da física-matemática - colocou os olhos sobre tal equação ele notou imediatamente que tal equação era idêntica as obtidas no contexto de matrizes aleatórias Hermitianas (uma matriz é hermitiana se ela é igual a sua transporta conjugada) utilizadas para compreender o comportamento de núcleos de átomos pesados, tais como urânio. A imagem abaixo é uma carta  escrita por Dyson."
   ]
  },
  {
   "cell_type": "markdown",
   "metadata": {},
   "source": [
    "![](carta.png)"
   ]
  },
  {
   "cell_type": "markdown",
   "metadata": {},
   "source": [
    "As conexão entre um ferramental desenvolvido para estudar núcleos atômicos e números primos era realmente inesperada e talvez seja um dos caminhos para a prova da hipotese de Riemann[5, 2]. Contudo deixemos a história de lado, e voltemos ao ponto principal que é te dar outro exemplo de universalidade. \n",
    "\n",
    "Lembra que Montgomery disse que parecia haver uma repulsão entre os zeros da função zeta? O que seria esse conceito de repulsão em matrizes aleatórias? Vamos checar numericamente "
   ]
  },
  {
   "cell_type": "markdown",
   "metadata": {},
   "source": [
    "Voltaremos a usar nossas matrizes aleatórias geradas por distribuições Gaussianas e Laplacianas. Usando o mesmo conjunto de autovalores que obtivemos anteriormente iremos calular o espaçamento entre cada par de autovalores para cada realização de uma matriz aleatória. É bem fácil, basta chamar a função `diff` do numpy"
   ]
  },
  {
   "cell_type": "code",
   "execution_count": 6,
   "metadata": {},
   "outputs": [],
   "source": [
    "diff_laplace = np.diff(vals_laplace, axis=1)\n",
    "diff_normal = np.diff(vals_normal, axis=1)"
   ]
  },
  {
   "cell_type": "markdown",
   "metadata": {},
   "source": [
    "Agora o que faremos é estimar a densidade de probabilidade usnado KDE. Mas antes disso aqui vai uma dica: \n",
    "\n",
    ">**Evite o KDE do sklearn no seu dia a dia, a implementação é lenta e não flexivél, difícilmente você conseguirá bons resultados com milhões de pontos. Aqui vou usar uma implementação de KDE mais eficiente você pode instalar ela execuntando o comando abaixo**"
   ]
  },
  {
   "cell_type": "code",
   "execution_count": null,
   "metadata": {},
   "outputs": [],
   "source": [
    "!pip install KDEpy"
   ]
  },
  {
   "cell_type": "code",
   "execution_count": 16,
   "metadata": {},
   "outputs": [],
   "source": [
    "from KDEpy import FFTKDE\n",
    "\n",
    "estimator_normal = FFTKDE( bw='silverman').fit(diff_normal.flatten())\n",
    "x_normal, probs_normal = estimator_normal.evaluate(100)\n",
    "mu_normal = np.mean(diff_normal, axis=1).mean()\n",
    "\n",
    "estimator_laplace = FFTKDE( bw='silverman').fit(diff_laplace.flatten())\n",
    "x_laplace, probs_laplace = estimator_laplace.evaluate(100)\n",
    "mu_laplace = np.mean(diff_laplace, axis=1).mean()"
   ]
  },
  {
   "cell_type": "code",
   "execution_count": 53,
   "metadata": {},
   "outputs": [],
   "source": [
    "goe_law = lambda x: np.pi*x*np.exp(-np.pi*x**2/4)/2\n",
    "spacings = np.linspace(0, 4, 100)\n",
    "p_s = goe_law(spacings)\n",
    "#plt.hist(diff_laplace.flatten(), density=True, bins=100)\n",
    "#sns.distplot(diff_laplace.flatten()/m, norm_hist=True, label='sample')\n",
    "#sns.distplot(diff_normal.flatten()/m, norm_hist=True, label='sample')\n",
    "plt.plot(spacings, p_s, label=r'GOE analítico', c='orange', linestyle='--')\n",
    "plt.plot(\n",
    "    x_normal/mu_normal, \n",
    "    probs_normal*mu_normal, \n",
    "    linestyle=':',\n",
    "    linewidth=2,\n",
    "    zorder=1,\n",
    "    label='normal', c='black')\n",
    "plt.plot(x_laplace/mu_laplace, probs_laplace*mu_laplace, zorder=2,\n",
    "linestyle='--', label='laplace', c='tomato')\n",
    "plt.legend()\n",
    "plt.savefig('RMT_diff_distribution.png', facecolor='w')\n",
    "plt.close()"
   ]
  },
  {
   "cell_type": "markdown",
   "metadata": {},
   "source": [
    "![](RMT_diff_distribution.png)"
   ]
  },
  {
   "cell_type": "markdown",
   "metadata": {},
   "source": [
    "O que as distribuições acima dizem é que dado sua matriz ser $i.i.d.$ quadrada e simétrica então a probabilidade que você encontre dois autovalores iguais é $0$ (zero). Além do mais, existe um ponto de máximo global em relação a distribuição de espaçamentos. Esse comportamento que balanceia repulsão e atração dos autovalores lembra o comportamento de partículas em um fluído. Não é de espantar que o método matemático desenvolvido por Wigner para compreender tais matrizes foi denominado Gás de Coloumb[2].\n",
    "\n",
    "Agora que você tem pelo menos uma ideia do que seria essa repulsão para o caso que já abordamos (matrizes simétricas quadradas) voltemos ao problema dos números primos.\n",
    "\n",
    "O comando a seguir baixa os primeiros 100k zeros da função zeta "
   ]
  },
  {
   "cell_type": "code",
   "execution_count": 37,
   "metadata": {},
   "outputs": [],
   "source": [
    "!wget http://www.dtc.umn.edu/~odlyzko/zeta_tables/zeros1"
   ]
  },
  {
   "cell_type": "markdown",
   "metadata": {},
   "source": [
    "Um pequeno preprocessamento dos dados:"
   ]
  },
  {
   "cell_type": "code",
   "execution_count": 59,
   "metadata": {},
   "outputs": [],
   "source": [
    "zeros = []\n",
    "with open('zeros1', 'r') as f:\n",
    "    for line in f.readlines():\n",
    "        # remove all spaces in the line and convert it to a float\n",
    "        zeros.append(float(line.replace(' ', '')))\n",
    "zeta_zeros = np.array(zeros)"
   ]
  },
  {
   "cell_type": "markdown",
   "metadata": {},
   "source": [
    "Iremos calcular os espaçamentos entre os zeros, a  média de tais espaçamento e executar um KDE"
   ]
  },
  {
   "cell_type": "code",
   "execution_count": 71,
   "metadata": {},
   "outputs": [],
   "source": [
    "from KDEpy import FFTKDE\n",
    "\n",
    "diff_zeta = np.diff(zeta_zeros[10000:])\n",
    "m = np.mean(diff_zeta)\n",
    "estimator = FFTKDE( bw='silverman').fit(diff_zeta)\n"
   ]
  },
  {
   "cell_type": "code",
   "execution_count": 73,
   "metadata": {},
   "outputs": [],
   "source": [
    "x, probs = estimator.evaluate(100)\n",
    "p = np.pi\n",
    "goe_law = lambda x: p*x*np.exp(-p*x**2/4)/2\n",
    "def gue(xs):\n",
    "    arg = -4/np.pi*np.power(xs,2)\n",
    "    vals = 32/np.pi**2*xs**2*np.exp(arg)\n",
    "    return vals\n",
    "spacings = np.linspace(0, 4, 100)\n",
    "p_s = gue(spacings)\n",
    "p_s2 = goe_law(spacings)\n",
    "plt.plot(x/m, probs*m, label='zeros zeta', linestyle='--')\n",
    "plt.plot(spacings, p_s, label=r'GUE analítico', c='blue', linestyle='-.')\n",
    "plt.plot(spacings, p_s2, label=r'GOE analitico', c='orange', linestyle='-.')\n",
    "plt.xlim(-0.1, 4)\n",
    "plt.legend()\n",
    "plt.savefig('zeta.png', facecolor='w')\n",
    "plt.close()"
   ]
  },
  {
   "cell_type": "markdown",
   "metadata": {},
   "source": [
    "![](zeta.png)"
   ]
  },
  {
   "cell_type": "markdown",
   "metadata": {},
   "source": [
    "Veja que a propriedade de repulsão apareceu novamente. Note que dentro do plot eu coloquei uma outra curva `GOE analítico`, essa curva é aquela que melhor descreve a distribuição de espaçamentos quando suas matrizes aleatórias são simétricas. Isso é uma lição importante aqui e resalta o que eu já disse anteriormente. Não temos apenas *\"um limite central para matrizes aleatórias*\", mas todo um **zoológico que mudará dependendo do tipo do seu problema.**. Nesse caso o espaçamento entre os zeros da zeta coincide com o espaçamento dos autovalores de matrizes aleatórias hermitianas."
   ]
  },
  {
   "cell_type": "markdown",
   "metadata": {},
   "source": [
    "# 3-Usando *RMT* para encontrar e filtrar ruídos em matrizes\n",
    "\n",
    "Na seção 1 relembramos o resultado do teorema do limite central. Na seção 2 apresentei uma lei de universalidade relacionada com matrizes simétricas reais. Na seção 3 mostramos que devemos ter em mente as simetrias e restrições do nosso problema para analisar qual regra de universalidade é respeitada. Isto é: a depender da simetria e restrições das nossas matrizes temos um outro \"*timbre de universalidade*\".\n",
    "\n",
    "Um exemplo de outro timbre surge no espectro de matrizes de correlação; matrizes que são comumente utilizadas para análise de carteiras de investimento. Tais matrizes tem **pelo menos a seguinte estrutura**:\n",
    "\n",
    "$$\n",
    "\\mathbf C = \\mathbf X \\mathbf X^T\n",
    "$$\n",
    "onde $\\mathbf X$ é uma matriz real $N\\times M$ e $M>N$. \n",
    "\n",
    "O código abaixo serve pra investigar como se da o espectro de matrizes aleatórias do tipo de $\\mathbf X$ com entradas dadas pela distribuição normal.\n"
   ]
  },
  {
   "cell_type": "code",
   "execution_count": 152,
   "metadata": {},
   "outputs": [],
   "source": [
    "def marchenko_pastur(l, Q, sigma=1):\n",
    "    Qi = 1/Q\n",
    "    lp = np.power(sigma*(1 + np.sqrt(Qi)),2) \n",
    "    lm = np.power(sigma*(1 - np.sqrt(Qi)),2) \n",
    "    # outside the interval [lm, lp]\n",
    "    if l > lp or l < lm:\n",
    "        return 0\n",
    "    return (Q/(2*np.pi*sigma*sigma*l))*np.sqrt((lp-l)*(l-lm))\n",
    "\n",
    "N = 1000\n",
    "T = 4000\n",
    "Q = T/N\n",
    "\n",
    "X = np.random.normal(0,1,size=(N,T))\n",
    "cor = np.corrcoef(X)\n",
    "vals = np.linalg.eigh(cor)[0]\n",
    "\n",
    "\n",
    "l_min = np.power(1 - np.sqrt(1/Q), 2) if 1-np.sqrt(1/Q) > 0 else 0\n",
    "l_max = np.power(1 + np.sqrt(1/Q), 2)\n",
    "eigenvalues_points = np.linspace(l_min, l_max, 100)\n",
    "pdf = np.vectorize(lambda x : marchenko_pastur(x, Q, 1))(eigenvalues_points)\n",
    "\n",
    "plt.plot(eigenvalues_points, pdf, color = 'r', label='Marchenko-Pastur')\n",
    "plt.hist(vals,  label='sample', bins=100 , density=True)\n",
    "plt.legend()\n",
    "plt.savefig('Marchenko_Pastur.png', facecolor='w')\n",
    "plt.close()"
   ]
  },
  {
   "cell_type": "markdown",
   "metadata": {},
   "source": [
    "!['Marchenko_Pastur'](Marchenko_Pastur.png)\n",
    " \n",
    "\n",
    "Na imagem acima foi plotado uma outra função em vermelho, essa outra função representa um outra **universalidade** que aparece em matrizes com a restrição $N\\times M$ e entradas $i.i.d.$. Tal **universalidade** tem como formato a distribuição de Marchenko-Pastur. E é dada por \n"
   ]
  },
  {
   "cell_type": "markdown",
   "metadata": {},
   "source": [
    "Tentar minimizar os riscos em uma estratégia de investimento e manter uma boa margem de ganho parece ser uma atitude sensata. Uma possibilidade é diversificar a carteira de investimentos objetivando reduzir a volatidade. \n",
    "\n",
    "Um dessas estratégias pode ser traduzida no problema de otimização abaixo\n",
    "$$\n",
    "\\min\\limits_{w \\in R_{+}^{N\\times1}, ||w|| =1 } (w^T \\Sigma w)\n",
    "$$\n",
    "\n",
    "$w$ é uma *lista* de entradas positivas que somam $1$, $\\sum_i w_i = 1$ e $w_i \\geq 0$. Cada elemento desta lista nos diz a porcentagem dos nossos recursos que devemos alocar em um dado ativo para reduzir nossos riscos. Dentro da expressão acima temos uma matriz $\\Sigma$ que é uma matriz de covâriancia.\n",
    "\n",
    "Essa matriz adimite a seguinte decomposição\n",
    "$$\n",
    "\\mathbf \\Sigma = \\mathbf D^{1/2}\\mathbf C\\mathbf D^{1/2}\n",
    "$$\n",
    "\n",
    "Onde $\\mathbf C$ é a matriz de correlação "
   ]
  },
  {
   "cell_type": "code",
   "execution_count": 8,
   "metadata": {},
   "outputs": [],
   "source": [
    "!pip install yfinance"
   ]
  },
  {
   "cell_type": "code",
   "execution_count": 46,
   "metadata": {},
   "outputs": [],
   "source": [
    "!wget https://raw.githubusercontent.com/shilewenuw/get_all_tickers/master/get_all_tickers/tickers.csv"
   ]
  },
  {
   "cell_type": "code",
   "execution_count": 26,
   "metadata": {},
   "outputs": [
    {
     "data": {
      "text/plain": [
       "505"
      ]
     },
     "execution_count": 26,
     "metadata": {},
     "output_type": "execute_result"
    }
   ],
   "source": [
    "import pandas as pd\n",
    "import numpy as np\n",
    "# There are 2 tables on the Wikipedia page\n",
    "# we want the first table\n",
    "\n",
    "payload=pd.read_html('https://en.wikipedia.org/wiki/List_of_S%26P_500_companies')\n",
    "first_table = payload[0]\n",
    "second_table = payload[1]\n",
    "\n",
    "df = first_table\n",
    "tickers = df['Symbol'].values.tolist()\n",
    "len(tickers)"
   ]
  },
  {
   "cell_type": "code",
   "execution_count": 74,
   "metadata": {},
   "outputs": [
    {
     "name": "stdout",
     "output_type": "stream",
     "text": [
      "500 tickers\n"
     ]
    }
   ],
   "source": [
    "tickers = np.loadtxt('tickers.csv', dtype=str, delimiter=',').tolist()\n",
    "tickers = np.random.choice(tickers, size=500, replace=False).tolist()\n",
    "print(f'{len(tickers)} tickers')"
   ]
  },
  {
   "cell_type": "code",
   "execution_count": 49,
   "metadata": {},
   "outputs": [
    {
     "data": {
      "text/plain": [
       "500"
      ]
     },
     "execution_count": 49,
     "metadata": {},
     "output_type": "execute_result"
    }
   ],
   "source": [
    "np.random.seed(777) #Jackpot\n",
    "tickers = np.loadtxt('yahoo_tickers_2010.csv', dtype=str, delimiter=',').tolist()\n",
    "\n",
    "tickers = np.random.choice(tickers, size=500, replace=False).tolist()\n",
    "len(tickers)\n",
    "#tickers = [t.split('.')[0] for t in tickers]"
   ]
  },
  {
   "cell_type": "code",
   "execution_count": 120,
   "metadata": {},
   "outputs": [],
   "source": [
    "tickers = np.random.choice(tickers, size=100, replace=False).tolist()"
   ]
  },
  {
   "cell_type": "code",
   "execution_count": 75,
   "metadata": {},
   "outputs": [
    {
     "name": "stdout",
     "output_type": "stream",
     "text": [
      "[*********************100%***********************]  500 of 500 completed\n",
      "\n",
      "52 Failed downloads:\n",
      "- ITRG: Data doesn't exist for startDate = 1483236000, endDate = 1577761200\n",
      "- ONDK: No data found, symbol may be delisted\n",
      "- SAK: Data doesn't exist for startDate = 1483236000, endDate = 1577761200\n",
      "- HMI: No data found, symbol may be delisted\n",
      "- SHLL: No data found, symbol may be delisted\n",
      "- OAC: No data found, symbol may be delisted\n",
      "- PACD: No data found, symbol may be delisted\n",
      "- PROS: No data found, symbol may be delisted\n",
      "- GSX: No data found, symbol may be delisted\n",
      "- GV: No data found, symbol may be delisted\n",
      "- MEN: No data found, symbol may be delisted\n",
      "- NAV: No data found, symbol may be delisted\n",
      "- CCC: No data found, symbol may be delisted\n",
      "- CBL: Data doesn't exist for startDate = 1483236000, endDate = 1577761200\n",
      "- CUB: No data found, symbol may be delisted\n",
      "- DSSI: No data found, symbol may be delisted\n",
      "- CHAQ: No data found, symbol may be delisted\n",
      "- BMY~: No data found, symbol may be delisted\n",
      "- UZC: No data found, symbol may be delisted\n",
      "- TDJ: No data found, symbol may be delisted\n",
      "- RPLA: No data found, symbol may be delisted\n",
      "- AHC: No data found, symbol may be delisted\n",
      "- CARR: Data doesn't exist for startDate = 1483236000, endDate = 1577761200\n",
      "- GTT: No data found, symbol may be delisted\n",
      "- BCEI: Data doesn't exist for startDate = 1483236000, endDate = 1577761200\n",
      "- LEAF: No data found, symbol may be delisted\n",
      "- ROYT: None\n",
      "- NPN: No data found, symbol may be delisted\n",
      "- UZA: No data found, symbol may be delisted\n",
      "- RFM: Data doesn't exist for startDate = 1483236000, endDate = 1577761200\n",
      "- NSCO: No data found, symbol may be delisted\n",
      "- BSE: No data found, symbol may be delisted\n",
      "- TSU: No data found, symbol may be delisted\n",
      "- WYND: No data found, symbol may be delisted\n",
      "- TDE: No data found, symbol may be delisted\n",
      "- BBX: No data found, symbol may be delisted\n",
      "- JIH: No data found, symbol may be delisted\n",
      "- CKH: No data found, symbol may be delisted\n",
      "- NTN: No data found, symbol may be delisted\n",
      "- TCP: No data found, symbol may be delisted\n",
      "- MCC: None\n",
      "- SNE: No data found, symbol may be delisted\n",
      "- AFGB: Data doesn't exist for startDate = 1483236000, endDate = 1577761200\n",
      "- CCH: No data found, symbol may be delisted\n",
      "- SYX: No data found, symbol may be delisted\n",
      "- CHAP: None\n",
      "- BEPC: Data doesn't exist for startDate = 1483236000, endDate = 1577761200\n",
      "- RMG: No data found, symbol may be delisted\n",
      "- MIE: No data found, symbol may be delisted\n",
      "- WORK: No data found, symbol may be delisted\n",
      "- WRI: No data found, symbol may be delisted\n",
      "- FBM: No data found, symbol may be delisted\n"
     ]
    }
   ],
   "source": [
    "import yfinance as yf\n",
    "\n",
    "## extrair dados de uma vez com yf.download\n",
    "\n",
    "df  = yf.download (tickers, \n",
    "                   start=\"2017-01-01\", end=\"2019-12-31\",\n",
    "                   #period = \"2y\",\n",
    "                   interval = \"1d\",\n",
    "                   group_by = 'ticker', ## poderá chamar df[ticker]\n",
    "                   progress = True)"
   ]
  },
  {
   "cell_type": "code",
   "execution_count": 121,
   "metadata": {},
   "outputs": [
    {
     "name": "stdout",
     "output_type": "stream",
     "text": [
      "[*********************100%***********************]  100 of 100 completed\n",
      "\n",
      "52 Failed downloads:\n",
      "- KADCONS.BO: No data found for this date range, symbol may be delisted\n",
      "- CTUY.OB: No data found, symbol may be delisted\n",
      "- BPL: No data found, symbol may be delisted\n",
      "- K90.DE: No data found for this date range, symbol may be delisted\n",
      "- DMN.AX: None\n",
      "- ACI: Data doesn't exist for startDate = 1293847200, endDate = 1388455200\n",
      "- VPG.AX: No data found for this date range, symbol may be delisted\n",
      "- SEA.AX: No data found, symbol may be delisted\n",
      "- PVBK.OB: No data found, symbol may be delisted\n",
      "- TIA.V: No data found for this date range, symbol may be delisted\n",
      "- DNB: Data doesn't exist for startDate = 1293847200, endDate = 1388455200\n",
      "- WEIZMAN.BO: No data found for this date range, symbol may be delisted\n",
      "- XXIA: No data found for this date range, symbol may be delisted\n",
      "- SUNPHADV.BO: No data found for this date range, symbol may be delisted\n",
      "- UXG.TO: No data found for this date range, symbol may be delisted\n",
      "- GAZU.OB: No data found, symbol may be delisted\n",
      "- FLAWLESD.BO: No data found for this date range, symbol may be delisted\n",
      "- AFFW.OB: No data found, symbol may be delisted\n",
      "- AQ.V: No data found for this date range, symbol may be delisted\n",
      "- STSAD: No data found, symbol may be delisted\n",
      "- ELDERPHAR.NS: No data found for this date range, symbol may be delisted\n",
      "- DLOV.OB: No data found, symbol may be delisted\n",
      "- GSLNOVA.BO: No data found, symbol may be delisted\n",
      "- BGAT.OB: No data found, symbol may be delisted\n",
      "- CNLA.OB: No data found, symbol may be delisted\n",
      "- TRK: No data found, symbol may be delisted\n",
      "- NWC.NZ: No data found for this date range, symbol may be delisted\n",
      "- ACL.V: No data found for this date range, symbol may be delisted\n",
      "- KSBI.OB: No data found, symbol may be delisted\n",
      "- STELCOST.BO: No data found for this date range, symbol may be delisted\n",
      "- AVSO.OB: No data found, symbol may be delisted\n",
      "- QMN.AX: No data found for this date range, symbol may be delisted\n",
      "- SHARONBIO.BO: No data found, symbol may be delisted\n",
      "- CHK: Data doesn't exist for startDate = 1293847200, endDate = 1388455200\n",
      "- VVIT.OB: No data found, symbol may be delisted\n",
      "- BVG.V: No data found for this date range, symbol may be delisted\n",
      "- CMGO.PK: No data found, symbol may be delisted\n",
      "- PVCS.L: No data found, symbol may be delisted\n",
      "- LDHL.OB: No data found, symbol may be delisted\n",
      "- VASC: No data found for this date range, symbol may be delisted\n",
      "- SBW: No data found for this date range, symbol may be delisted\n",
      "- AXSI.OB: No data found, symbol may be delisted\n",
      "- TARAPURTL.BO: No data found for this date range, symbol may be delisted\n",
      "- S0Q.DE: No data found for this date range, symbol may be delisted\n",
      "- ABCPAPER.BO: No data found for this date range, symbol may be delisted\n",
      "- BTU: Data doesn't exist for startDate = 1293847200, endDate = 1388455200\n",
      "- GOPALA.BO: Data doesn't exist for startDate = 1293847200, endDate = 1388455200\n",
      "- TPAC.OB: No data found, symbol may be delisted\n",
      "- NATIONALU.NS: No data found for this date range, symbol may be delisted\n",
      "- SNR.AX: No data found for this date range, symbol may be delisted\n",
      "- BOW.V: No data found for this date range, symbol may be delisted\n",
      "- FLOW: Data doesn't exist for startDate = 1293847200, endDate = 1388455200\n"
     ]
    }
   ],
   "source": [
    "import yfinance as yf\n",
    "\n",
    "## extrair dados de uma vez com yf.download\n",
    "\n",
    "df  = yf.download (tickers, \n",
    "                   start=\"2011-01-01\", end=\"2013-12-31\",\n",
    "                   #period = \"2y\",\n",
    "                   interval = \"1d\",\n",
    "                   group_by = 'ticker', ## poderá chamar df[ticker]\n",
    "                   progress = True)"
   ]
  },
  {
   "cell_type": "code",
   "execution_count": 76,
   "metadata": {},
   "outputs": [],
   "source": [
    "tickers_available = list(set([ ticket for ticket, _ in df.columns.T.to_numpy()]))"
   ]
  },
  {
   "cell_type": "code",
   "execution_count": 123,
   "metadata": {},
   "outputs": [],
   "source": [
    "tickers_available = np.random.choice(tickers_available, size=100, replace=False).tolist()"
   ]
  },
  {
   "cell_type": "code",
   "execution_count": 77,
   "metadata": {},
   "outputs": [
    {
     "name": "stdout",
     "output_type": "stream",
     "text": [
      "<class 'pandas.core.frame.DataFrame'>\n",
      "DatetimeIndex: 754 entries, 2017-01-03 to 2019-12-30\n",
      "Columns: 500 entries, PAYC to PRS\n",
      "dtypes: float64(500)\n",
      "memory usage: 2.9 MB\n"
     ]
    }
   ],
   "source": [
    "prices = pd.DataFrame()\n",
    "for ticker in tickers_available:\n",
    "    try:\n",
    "        prices[ticker] = df[(ticker, 'Adj Close')]\n",
    "    except Exception as e:\n",
    "        pass\n",
    "returns = prices.pct_change()\n",
    "returns.info()"
   ]
  },
  {
   "cell_type": "code",
   "execution_count": 78,
   "metadata": {},
   "outputs": [
    {
     "data": {
      "text/html": [
       "<div>\n",
       "<style scoped>\n",
       "    .dataframe tbody tr th:only-of-type {\n",
       "        vertical-align: middle;\n",
       "    }\n",
       "\n",
       "    .dataframe tbody tr th {\n",
       "        vertical-align: top;\n",
       "    }\n",
       "\n",
       "    .dataframe thead th {\n",
       "        text-align: right;\n",
       "    }\n",
       "</style>\n",
       "<table border=\"1\" class=\"dataframe\">\n",
       "  <thead>\n",
       "    <tr style=\"text-align: right;\">\n",
       "      <th></th>\n",
       "      <th>PAYC</th>\n",
       "      <th>TNC</th>\n",
       "      <th>NRT</th>\n",
       "      <th>WEX</th>\n",
       "      <th>ITRG</th>\n",
       "      <th>AGD</th>\n",
       "      <th>CXH</th>\n",
       "      <th>ONDK</th>\n",
       "      <th>BBD</th>\n",
       "      <th>MXL</th>\n",
       "      <th>...</th>\n",
       "      <th>BHK</th>\n",
       "      <th>BTI</th>\n",
       "      <th>IAF</th>\n",
       "      <th>FBM</th>\n",
       "      <th>BKD</th>\n",
       "      <th>CDAY</th>\n",
       "      <th>TGS</th>\n",
       "      <th>BXP</th>\n",
       "      <th>CMCL</th>\n",
       "      <th>PRS</th>\n",
       "    </tr>\n",
       "    <tr>\n",
       "      <th>Date</th>\n",
       "      <th></th>\n",
       "      <th></th>\n",
       "      <th></th>\n",
       "      <th></th>\n",
       "      <th></th>\n",
       "      <th></th>\n",
       "      <th></th>\n",
       "      <th></th>\n",
       "      <th></th>\n",
       "      <th></th>\n",
       "      <th></th>\n",
       "      <th></th>\n",
       "      <th></th>\n",
       "      <th></th>\n",
       "      <th></th>\n",
       "      <th></th>\n",
       "      <th></th>\n",
       "      <th></th>\n",
       "      <th></th>\n",
       "      <th></th>\n",
       "      <th></th>\n",
       "    </tr>\n",
       "  </thead>\n",
       "  <tbody>\n",
       "    <tr>\n",
       "      <th>2017-01-03</th>\n",
       "      <td>NaN</td>\n",
       "      <td>NaN</td>\n",
       "      <td>NaN</td>\n",
       "      <td>NaN</td>\n",
       "      <td>NaN</td>\n",
       "      <td>NaN</td>\n",
       "      <td>NaN</td>\n",
       "      <td>NaN</td>\n",
       "      <td>NaN</td>\n",
       "      <td>NaN</td>\n",
       "      <td>...</td>\n",
       "      <td>NaN</td>\n",
       "      <td>NaN</td>\n",
       "      <td>NaN</td>\n",
       "      <td>NaN</td>\n",
       "      <td>NaN</td>\n",
       "      <td>NaN</td>\n",
       "      <td>NaN</td>\n",
       "      <td>NaN</td>\n",
       "      <td>NaN</td>\n",
       "      <td>NaN</td>\n",
       "    </tr>\n",
       "    <tr>\n",
       "      <th>2017-01-04</th>\n",
       "      <td>0.018722</td>\n",
       "      <td>0.021349</td>\n",
       "      <td>0.015152</td>\n",
       "      <td>0.008197</td>\n",
       "      <td>NaN</td>\n",
       "      <td>0.001111</td>\n",
       "      <td>0.002112</td>\n",
       "      <td>NaN</td>\n",
       "      <td>0.003271</td>\n",
       "      <td>-0.001817</td>\n",
       "      <td>...</td>\n",
       "      <td>0.002306</td>\n",
       "      <td>-0.002212</td>\n",
       "      <td>0.009091</td>\n",
       "      <td>NaN</td>\n",
       "      <td>0.035239</td>\n",
       "      <td>NaN</td>\n",
       "      <td>-0.016632</td>\n",
       "      <td>0.031766</td>\n",
       "      <td>0.060345</td>\n",
       "      <td>NaN</td>\n",
       "    </tr>\n",
       "    <tr>\n",
       "      <th>2017-01-05</th>\n",
       "      <td>-0.007182</td>\n",
       "      <td>-0.033715</td>\n",
       "      <td>0.050746</td>\n",
       "      <td>0.004153</td>\n",
       "      <td>NaN</td>\n",
       "      <td>-0.002220</td>\n",
       "      <td>0.002108</td>\n",
       "      <td>NaN</td>\n",
       "      <td>0.021739</td>\n",
       "      <td>-0.012284</td>\n",
       "      <td>...</td>\n",
       "      <td>-0.000767</td>\n",
       "      <td>0.001064</td>\n",
       "      <td>0.014414</td>\n",
       "      <td>NaN</td>\n",
       "      <td>-0.008321</td>\n",
       "      <td>NaN</td>\n",
       "      <td>0.005285</td>\n",
       "      <td>0.004801</td>\n",
       "      <td>0.097561</td>\n",
       "      <td>NaN</td>\n",
       "    </tr>\n",
       "    <tr>\n",
       "      <th>2017-01-06</th>\n",
       "      <td>0.010426</td>\n",
       "      <td>-0.005583</td>\n",
       "      <td>0.008523</td>\n",
       "      <td>-0.002024</td>\n",
       "      <td>NaN</td>\n",
       "      <td>0.014460</td>\n",
       "      <td>-0.001052</td>\n",
       "      <td>NaN</td>\n",
       "      <td>-0.002127</td>\n",
       "      <td>-0.012437</td>\n",
       "      <td>...</td>\n",
       "      <td>0.007675</td>\n",
       "      <td>-0.002747</td>\n",
       "      <td>0.010657</td>\n",
       "      <td>NaN</td>\n",
       "      <td>-0.032799</td>\n",
       "      <td>NaN</td>\n",
       "      <td>0.001052</td>\n",
       "      <td>-0.002275</td>\n",
       "      <td>0.037037</td>\n",
       "      <td>NaN</td>\n",
       "    </tr>\n",
       "    <tr>\n",
       "      <th>2017-01-09</th>\n",
       "      <td>0.019162</td>\n",
       "      <td>-0.006316</td>\n",
       "      <td>-0.018310</td>\n",
       "      <td>-0.005908</td>\n",
       "      <td>NaN</td>\n",
       "      <td>0.008772</td>\n",
       "      <td>0.006316</td>\n",
       "      <td>NaN</td>\n",
       "      <td>0.005330</td>\n",
       "      <td>0.054571</td>\n",
       "      <td>...</td>\n",
       "      <td>-0.003808</td>\n",
       "      <td>0.010306</td>\n",
       "      <td>0.005272</td>\n",
       "      <td>NaN</td>\n",
       "      <td>0.013407</td>\n",
       "      <td>NaN</td>\n",
       "      <td>0.004202</td>\n",
       "      <td>-0.009958</td>\n",
       "      <td>0.021429</td>\n",
       "      <td>NaN</td>\n",
       "    </tr>\n",
       "    <tr>\n",
       "      <th>...</th>\n",
       "      <td>...</td>\n",
       "      <td>...</td>\n",
       "      <td>...</td>\n",
       "      <td>...</td>\n",
       "      <td>...</td>\n",
       "      <td>...</td>\n",
       "      <td>...</td>\n",
       "      <td>...</td>\n",
       "      <td>...</td>\n",
       "      <td>...</td>\n",
       "      <td>...</td>\n",
       "      <td>...</td>\n",
       "      <td>...</td>\n",
       "      <td>...</td>\n",
       "      <td>...</td>\n",
       "      <td>...</td>\n",
       "      <td>...</td>\n",
       "      <td>...</td>\n",
       "      <td>...</td>\n",
       "      <td>...</td>\n",
       "      <td>...</td>\n",
       "    </tr>\n",
       "    <tr>\n",
       "      <th>2019-12-23</th>\n",
       "      <td>0.005616</td>\n",
       "      <td>-0.005488</td>\n",
       "      <td>-0.003710</td>\n",
       "      <td>-0.001746</td>\n",
       "      <td>NaN</td>\n",
       "      <td>0.007752</td>\n",
       "      <td>-0.002039</td>\n",
       "      <td>NaN</td>\n",
       "      <td>0.015116</td>\n",
       "      <td>0.014211</td>\n",
       "      <td>...</td>\n",
       "      <td>-0.004121</td>\n",
       "      <td>0.001412</td>\n",
       "      <td>-0.005406</td>\n",
       "      <td>NaN</td>\n",
       "      <td>-0.008487</td>\n",
       "      <td>0.011412</td>\n",
       "      <td>0.053333</td>\n",
       "      <td>0.000221</td>\n",
       "      <td>0.020434</td>\n",
       "      <td>0.006257</td>\n",
       "    </tr>\n",
       "    <tr>\n",
       "      <th>2019-12-24</th>\n",
       "      <td>-0.001434</td>\n",
       "      <td>0.001412</td>\n",
       "      <td>0.054004</td>\n",
       "      <td>0.000291</td>\n",
       "      <td>NaN</td>\n",
       "      <td>-0.001923</td>\n",
       "      <td>0.001022</td>\n",
       "      <td>NaN</td>\n",
       "      <td>0.002291</td>\n",
       "      <td>-0.000467</td>\n",
       "      <td>...</td>\n",
       "      <td>0.002069</td>\n",
       "      <td>0.005639</td>\n",
       "      <td>0.007246</td>\n",
       "      <td>NaN</td>\n",
       "      <td>0.001426</td>\n",
       "      <td>0.003912</td>\n",
       "      <td>0.028129</td>\n",
       "      <td>0.000957</td>\n",
       "      <td>0.003755</td>\n",
       "      <td>0.000000</td>\n",
       "    </tr>\n",
       "    <tr>\n",
       "      <th>2019-12-26</th>\n",
       "      <td>0.015417</td>\n",
       "      <td>-0.002179</td>\n",
       "      <td>0.035336</td>\n",
       "      <td>0.004856</td>\n",
       "      <td>NaN</td>\n",
       "      <td>0.004817</td>\n",
       "      <td>0.002041</td>\n",
       "      <td>NaN</td>\n",
       "      <td>0.021714</td>\n",
       "      <td>0.006542</td>\n",
       "      <td>...</td>\n",
       "      <td>0.000000</td>\n",
       "      <td>0.002944</td>\n",
       "      <td>0.000000</td>\n",
       "      <td>NaN</td>\n",
       "      <td>0.000000</td>\n",
       "      <td>0.016484</td>\n",
       "      <td>0.019152</td>\n",
       "      <td>0.008827</td>\n",
       "      <td>0.021820</td>\n",
       "      <td>0.003292</td>\n",
       "    </tr>\n",
       "    <tr>\n",
       "      <th>2019-12-27</th>\n",
       "      <td>0.000633</td>\n",
       "      <td>0.006165</td>\n",
       "      <td>-0.017065</td>\n",
       "      <td>0.012179</td>\n",
       "      <td>NaN</td>\n",
       "      <td>0.003835</td>\n",
       "      <td>0.001018</td>\n",
       "      <td>NaN</td>\n",
       "      <td>-0.004474</td>\n",
       "      <td>-0.005107</td>\n",
       "      <td>...</td>\n",
       "      <td>0.002753</td>\n",
       "      <td>0.006391</td>\n",
       "      <td>0.005396</td>\n",
       "      <td>NaN</td>\n",
       "      <td>-0.001424</td>\n",
       "      <td>0.000295</td>\n",
       "      <td>-0.033557</td>\n",
       "      <td>0.003938</td>\n",
       "      <td>0.015253</td>\n",
       "      <td>-0.004375</td>\n",
       "    </tr>\n",
       "    <tr>\n",
       "      <th>2019-12-30</th>\n",
       "      <td>-0.024062</td>\n",
       "      <td>0.001149</td>\n",
       "      <td>0.026041</td>\n",
       "      <td>-0.005300</td>\n",
       "      <td>NaN</td>\n",
       "      <td>-0.008169</td>\n",
       "      <td>-0.007121</td>\n",
       "      <td>NaN</td>\n",
       "      <td>0.005618</td>\n",
       "      <td>-0.005133</td>\n",
       "      <td>...</td>\n",
       "      <td>0.008826</td>\n",
       "      <td>-0.001411</td>\n",
       "      <td>-0.011009</td>\n",
       "      <td>NaN</td>\n",
       "      <td>0.018545</td>\n",
       "      <td>0.002358</td>\n",
       "      <td>0.005556</td>\n",
       "      <td>-0.000219</td>\n",
       "      <td>0.009615</td>\n",
       "      <td>-0.000366</td>\n",
       "    </tr>\n",
       "  </tbody>\n",
       "</table>\n",
       "<p>754 rows × 500 columns</p>\n",
       "</div>"
      ],
      "text/plain": [
       "                PAYC       TNC       NRT       WEX  ITRG       AGD       CXH  \\\n",
       "Date                                                                           \n",
       "2017-01-03       NaN       NaN       NaN       NaN   NaN       NaN       NaN   \n",
       "2017-01-04  0.018722  0.021349  0.015152  0.008197   NaN  0.001111  0.002112   \n",
       "2017-01-05 -0.007182 -0.033715  0.050746  0.004153   NaN -0.002220  0.002108   \n",
       "2017-01-06  0.010426 -0.005583  0.008523 -0.002024   NaN  0.014460 -0.001052   \n",
       "2017-01-09  0.019162 -0.006316 -0.018310 -0.005908   NaN  0.008772  0.006316   \n",
       "...              ...       ...       ...       ...   ...       ...       ...   \n",
       "2019-12-23  0.005616 -0.005488 -0.003710 -0.001746   NaN  0.007752 -0.002039   \n",
       "2019-12-24 -0.001434  0.001412  0.054004  0.000291   NaN -0.001923  0.001022   \n",
       "2019-12-26  0.015417 -0.002179  0.035336  0.004856   NaN  0.004817  0.002041   \n",
       "2019-12-27  0.000633  0.006165 -0.017065  0.012179   NaN  0.003835  0.001018   \n",
       "2019-12-30 -0.024062  0.001149  0.026041 -0.005300   NaN -0.008169 -0.007121   \n",
       "\n",
       "            ONDK       BBD       MXL  ...       BHK       BTI       IAF  FBM  \\\n",
       "Date                                  ...                                      \n",
       "2017-01-03   NaN       NaN       NaN  ...       NaN       NaN       NaN  NaN   \n",
       "2017-01-04   NaN  0.003271 -0.001817  ...  0.002306 -0.002212  0.009091  NaN   \n",
       "2017-01-05   NaN  0.021739 -0.012284  ... -0.000767  0.001064  0.014414  NaN   \n",
       "2017-01-06   NaN -0.002127 -0.012437  ...  0.007675 -0.002747  0.010657  NaN   \n",
       "2017-01-09   NaN  0.005330  0.054571  ... -0.003808  0.010306  0.005272  NaN   \n",
       "...          ...       ...       ...  ...       ...       ...       ...  ...   \n",
       "2019-12-23   NaN  0.015116  0.014211  ... -0.004121  0.001412 -0.005406  NaN   \n",
       "2019-12-24   NaN  0.002291 -0.000467  ...  0.002069  0.005639  0.007246  NaN   \n",
       "2019-12-26   NaN  0.021714  0.006542  ...  0.000000  0.002944  0.000000  NaN   \n",
       "2019-12-27   NaN -0.004474 -0.005107  ...  0.002753  0.006391  0.005396  NaN   \n",
       "2019-12-30   NaN  0.005618 -0.005133  ...  0.008826 -0.001411 -0.011009  NaN   \n",
       "\n",
       "                 BKD      CDAY       TGS       BXP      CMCL       PRS  \n",
       "Date                                                                    \n",
       "2017-01-03       NaN       NaN       NaN       NaN       NaN       NaN  \n",
       "2017-01-04  0.035239       NaN -0.016632  0.031766  0.060345       NaN  \n",
       "2017-01-05 -0.008321       NaN  0.005285  0.004801  0.097561       NaN  \n",
       "2017-01-06 -0.032799       NaN  0.001052 -0.002275  0.037037       NaN  \n",
       "2017-01-09  0.013407       NaN  0.004202 -0.009958  0.021429       NaN  \n",
       "...              ...       ...       ...       ...       ...       ...  \n",
       "2019-12-23 -0.008487  0.011412  0.053333  0.000221  0.020434  0.006257  \n",
       "2019-12-24  0.001426  0.003912  0.028129  0.000957  0.003755  0.000000  \n",
       "2019-12-26  0.000000  0.016484  0.019152  0.008827  0.021820  0.003292  \n",
       "2019-12-27 -0.001424  0.000295 -0.033557  0.003938  0.015253 -0.004375  \n",
       "2019-12-30  0.018545  0.002358  0.005556 -0.000219  0.009615 -0.000366  \n",
       "\n",
       "[754 rows x 500 columns]"
      ]
     },
     "execution_count": 78,
     "metadata": {},
     "output_type": "execute_result"
    }
   ],
   "source": [
    "returns"
   ]
  },
  {
   "cell_type": "code",
   "execution_count": 79,
   "metadata": {},
   "outputs": [],
   "source": [
    "#!pip install bahc"
   ]
  },
  {
   "cell_type": "code",
   "execution_count": 91,
   "metadata": {},
   "outputs": [
    {
     "name": "stdout",
     "output_type": "stream",
     "text": [
      "<class 'pandas.core.frame.DataFrame'>\n",
      "DatetimeIndex: 754 entries, 2017-01-03 to 2019-12-30\n",
      "Columns: 500 entries, PAYC to PRS\n",
      "dtypes: float64(500)\n",
      "memory usage: 2.9 MB\n"
     ]
    },
    {
     "data": {
      "text/plain": [
       "((379, 100), (279, 100))"
      ]
     },
     "execution_count": 91,
     "metadata": {},
     "output_type": "execute_result"
    }
   ],
   "source": [
    "returns = prices.pct_change()\n",
    "returns.info()\n",
    "returns = returns.iloc[1:, :]# Remove first row of NA's generated by pct_changes()\n",
    "returns.dropna(axis = 1, thresh=len(returns.index)/2, inplace=True) # Drop stocks with over half the data missing\n",
    "returns.dropna(axis = 0, thresh=len(returns.columns), inplace=True) # Drop days without data for all stocks\n",
    "# random chose just 100 columns \n",
    "returns = returns[np.random.choice(returns.columns, size=100, replace=False)]\n",
    "training_period = 100\n",
    "#in_sample = returns.iloc[:(returns.shape[0]-training_period), :].copy()\n",
    "in_sample = returns.iloc[:(returns.shape[0]-training_period), :].copy()\n",
    "tickers = in_sample.columns # Remove tickers that were dropped\n",
    "\n",
    "returns.shape , in_sample.shape"
   ]
  },
  {
   "cell_type": "code",
   "execution_count": 104,
   "metadata": {},
   "outputs": [
    {
     "name": "stdout",
     "output_type": "stream",
     "text": [
      "<class 'pandas.core.frame.DataFrame'>\n",
      "DatetimeIndex: 754 entries, 2017-01-03 to 2019-12-30\n",
      "Columns: 500 entries, PAYC to PRS\n",
      "dtypes: float64(500)\n",
      "memory usage: 2.9 MB\n"
     ]
    },
    {
     "data": {
      "text/plain": [
       "((753, 397), (553, 397))"
      ]
     },
     "execution_count": 104,
     "metadata": {},
     "output_type": "execute_result"
    }
   ],
   "source": [
    "returns = prices.pct_change()\n",
    "returns.info()\n",
    "returns = returns.iloc[1:, :]# Remove first row of NA's generated by pct_changes()\n",
    "returns.dropna(axis = 1, inplace=True) # Drop stocks with over half the data missing\n",
    "returns.dropna(axis = 0,  inplace=True) # Drop days without data for all stocks\n",
    "training_period = 200\n",
    "#in_sample = returns.iloc[:(returns.shape[0]-training_period), :].copy()\n",
    "in_sample = returns.iloc[:(returns.shape[0]-training_period), :].copy()\n",
    "tickers = in_sample.columns # Remove tickers that were dropped\n",
    "\n",
    "returns.shape , in_sample.shape"
   ]
  },
  {
   "cell_type": "code",
   "execution_count": 105,
   "metadata": {},
   "outputs": [
    {
     "name": "stdout",
     "output_type": "stream",
     "text": [
      "<class 'pandas.core.frame.DataFrame'>\n",
      "DatetimeIndex: 553 entries, 2017-01-04 to 2019-03-15\n",
      "Columns: 397 entries, PAYC to CMCL\n",
      "dtypes: float64(397)\n",
      "memory usage: 1.7 MB\n"
     ]
    }
   ],
   "source": [
    "log_in_sample = in_sample.apply(lambda x : np.log(x+1))\n",
    "log_in_sample.dropna(0, inplace= True) #Drop those NA\n",
    "log_in_sample.dropna(1, inplace = True) \n",
    "\n",
    "# We will need the standard deviations later:\n",
    "log_in_sample.info()"
   ]
  },
  {
   "cell_type": "code",
   "execution_count": 106,
   "metadata": {},
   "outputs": [
    {
     "name": "stdout",
     "output_type": "stream",
     "text": [
      "753 397\n"
     ]
    }
   ],
   "source": [
    "T, N = returns.shape\n",
    "Q=T/N\n",
    "print(T, N)\n",
    "# shuffle log_in_sample\n",
    "#log_in_sample0 = log_in_sample.sample(frac=1).reset_index()\n",
    "correlation_matrix = log_in_sample.interpolate().corr()\n",
    "# shuffle correlation_matrix\n",
    "#orrelation_matrix0 = correlation_matrix.sample(frac=1)\n",
    "vals = np.linalg.eigh(correlation_matrix.values)[0]"
   ]
  },
  {
   "cell_type": "code",
   "execution_count": 109,
   "metadata": {},
   "outputs": [
    {
     "name": "stdout",
     "output_type": "stream",
     "text": [
      "1.8967254408060454\n"
     ]
    },
    {
     "data": {
      "image/png": "[encoded data removed]",
      "text/plain": [
       "<Figure size 432x288 with 1 Axes>"
      ]
     },
     "metadata": {
      "needs_background": "light"
     },
     "output_type": "display_data"
    }
   ],
   "source": [
    "import matplotlib.pyplot as plt\n",
    "import seaborn as sns\n",
    "T, N = returns.shape\n",
    "Q=T/N\n",
    "print(Q)\n",
    "#Q = 2\n",
    "sigma= 1\n",
    "#sigma = 0.1\n",
    "x_min = .0001 if np.power(sigma*(1 - np.sqrt(1/Q)),2) < .0001 else np.power(sigma*(1 - np.sqrt(1/Q)),2)\n",
    "x_max = np.power(sigma*(1 + np.sqrt(1/Q)),2)\n",
    "fig = plt.figure()\n",
    "ax  = fig.add_subplot(111)\n",
    "bins = 50\n",
    "e = vals.copy()\n",
    "#e=e[ e <= x_max+1]\n",
    "ax.hist(e, density = True, bins=100) # Histogram the eigenvalues\n",
    "f = np.vectorize(lambda x : marchenko_pastur(x,Q,sigma=sigma))\n",
    "x = np.linspace(x_min,x_max,5000)\n",
    "ax.plot(x,f(x), linewidth=1, color = 'r')\n",
    "\n",
    "#plt.ylim(0, .1)\n",
    "plt.show()"
   ]
  },
  {
   "cell_type": "code",
   "execution_count": 111,
   "metadata": {},
   "outputs": [
    {
     "name": "stdout",
     "output_type": "stream",
     "text": [
      "[ 2.99490577  3.15505611  3.45467607  3.61877265  3.77119535  4.25100734\n",
      "  4.72947581  5.720066    7.03101049  7.50503686 11.60431731 15.15589019\n",
      " 73.5758967 ]\n"
     ]
    }
   ],
   "source": [
    "  #sigma = 1 # The variance for all of the standardized log returns is 1\n",
    "max_theoretical_eval = np.power(sigma*(1 + np.sqrt(1/Q)),2)\n",
    "#max_theoretical_eval = sigma**2*(1+1/Q+np.sqrt(1/Q))\n",
    "D, S = np.linalg.eigh(correlation_matrix)\n",
    "\n",
    "print(D[D > max_theoretical_eval])"
   ]
  },
  {
   "cell_type": "code",
   "execution_count": 112,
   "metadata": {},
   "outputs": [
    {
     "data": {
      "image/png": "[encoded data removed]",
      "text/plain": [
       "<Figure size 432x288 with 3 Axes>"
      ]
     },
     "metadata": {
      "needs_background": "light"
     },
     "output_type": "display_data"
    }
   ],
   "source": [
    "# Filter the eigenvalues out\n",
    "D[D <= max_theoretical_eval] = 0\n",
    "\n",
    "# Reconstruct the matrix\n",
    "temp =  np.dot(S, np.dot(np.diag(D), np.transpose(S)))\n",
    "\n",
    "# Set the diagonal entries to 0\n",
    "np.fill_diagonal(temp, 1)\n",
    "filtered_matrix = temp\n",
    "\n",
    "f = plt.figure()\n",
    "ax = plt.subplot(121)\n",
    "ax.imshow(correlation_matrix)\n",
    "plt.title(\"Original\")\n",
    "ax = plt.subplot(122)\n",
    "plt.title(\"Filtered\")\n",
    "a = ax.imshow(filtered_matrix)\n",
    "cbar = f.colorbar(a, ticks=[-1, 0, 1])"
   ]
  },
  {
   "cell_type": "code",
   "execution_count": 113,
   "metadata": {},
   "outputs": [
    {
     "name": "stdout",
     "output_type": "stream",
     "text": [
      "      Investment Weight\n",
      "PAYC          -0.001425\n",
      "TNC           -0.003394\n",
      "NRT            0.000197\n",
      "WEX            0.000901\n",
      "AGD            0.000146\n"
     ]
    },
    {
     "data": {
      "image/png": "[encoded data removed]",
      "text/plain": [
       "<Figure size 1152x288 with 2 Axes>"
      ]
     },
     "metadata": {
      "needs_background": "light"
     },
     "output_type": "display_data"
    }
   ],
   "source": [
    "# Reconstruct the filtered covariance matrix\n",
    "covariance_matrix = in_sample.cov()\n",
    "inv_cov_mat = np.linalg.pinv(covariance_matrix)\n",
    "\n",
    "# Construct minimum variance weights\n",
    "ones = np.ones(len(inv_cov_mat))\n",
    "inv_dot_ones = np.dot(inv_cov_mat, ones)\n",
    "min_var_weights = inv_dot_ones/ np.dot( inv_dot_ones , ones)\n",
    "\n",
    "\n",
    "\n",
    "# Reconstruct the filtered covariance matrix from the standard deviations and the filtered correlation matrix\n",
    "variances = np.diag(log_in_sample.cov().values)\n",
    "standard_deviations = np.sqrt(variances) \n",
    "\n",
    "D = np.diag(standard_deviations)\n",
    "filtered_cov = np.dot(D ,np.dot(filtered_matrix,D))\n",
    "filtered_cov = filtered_matrix\n",
    "\n",
    "filtered_cov = (np.dot(np.diag(standard_deviations), \n",
    "            np.dot(filtered_matrix,np.diag(standard_deviations))))\n",
    "\n",
    "##outra\n",
    "filt_inv_cov = np.linalg.pinv(filtered_cov)\n",
    "\n",
    "# Construct minimum variance weights\n",
    "ones = np.ones(len(filt_inv_cov))\n",
    "inv_dot_ones = np.dot(filt_inv_cov, ones)\n",
    "filt_min_var_weights = inv_dot_ones/ np.dot( inv_dot_ones , ones)\n"
   ]
  },
  {
   "cell_type": "code",
   "execution_count": 146,
   "metadata": {},
   "outputs": [],
   "source": [
    "def get_cumulative_returns_over_time(sample, weights):\n",
    "    # Ignoring short sales\n",
    "\n",
    "    weights[weights <= 0 ] = 0 \n",
    "    weights = weights / weights.sum()\n",
    "    portfolio_ret = sample.dot(weights)\n",
    "    #return (1+portfolio_ret).cumprod()\n",
    "    return (((1+sample).cumprod(axis=0))-1).dot(weights)\n",
    "    \n",
    "cumulative_returns = get_cumulative_returns_over_time(returns, min_var_weights).values\n",
    "cumulative_returns_filt = get_cumulative_returns_over_time(returns, filt_min_var_weights).values\n",
    "\n"
   ]
  },
  {
   "cell_type": "code",
   "execution_count": 147,
   "metadata": {},
   "outputs": [
    {
     "data": {
      "image/png": "[encoded data removed]",
      "text/plain": [
       "<Figure size 432x288 with 1 Axes>"
      ]
     },
     "metadata": {
      "needs_background": "light"
     },
     "output_type": "display_data"
    }
   ],
   "source": [
    "%matplotlib inline \n",
    "f = plt.figure()\n",
    "\n",
    "ax = plt.subplot(111)\n",
    "points = np.arange(0, len(cumulative_returns))\n",
    "ax.plot(points, cumulative_returns, 'orange', linestyle='--', label='original')\n",
    "\n",
    "ax.plot(points, cumulative_returns_filt, 'b', linestyle='-.', label='filtrado')\n",
    "ymax = max(cumulative_returns.max(), cumulative_returns_filt.max())\n",
    "ymin = min(cumulative_returns.min(), cumulative_returns_filt.min())\n",
    "ax.vlines(returns.shape[0]-training_period+1, ymin, ymax, linewidth=1, linestyle='--', color='red')\n",
    "plt.legend()\n",
    "plt.show()"
   ]
  },
  {
   "cell_type": "markdown",
   "metadata": {},
   "source": [
    "# 5 - Vantagens, críticas e sugestões\n",
    "\n",
    "Você poderá encotrar alguns trabalhos e posts descrevendo o uso de matrizes aleatórias para filtragem de matrizes de correlação sem uma boa crítica ou explicitação das limitações vou linkar aqui alguns pontos positivos e negativos e limitações\n",
    "\n",
    "## Onde realmente RMT se mostrou útil\n",
    "  - Obviamente a RMT é indiscultivelmente bem sucedida na matemática e física permitindo compreender sistemas apenas análisando a estatística dos *gases matriciais*.\n",
    "  - Em machine learning a RMT também está provando ser uma ferramenta útil para compreender o processo de aprendizado e identificar problemas\n",
    "  - Entender comportamentos de sistemas sociais, biológicos e econômicos. Aqui com entender o comportamento digo apenas saber se um dado segue uma característiaca dada por alguma lei específica como a lei de semi-círculo. Isto é, não existe discussão em você pegar um dado sistema que é representado por uma matriz, estudar o comportamento do seu espectro de autovalores e autovetores e verificar que seguem algumas lei de universalidade. **Isso é bem diferente de dizer que se você filtrar uma matriz de correlação via RMT você irá obter  sempre resultados melhores.**\n",
    "  - \n",
    "## Limitações\n",
    "  - Note que não realizamos nenhum tipo de teste para decidir se realmente a distribuição de autovalores era uma Wishart. Baseamos isso só no olhometro, obviamente não é uma boa ideia. Como dito no texto da seção $4$ estudos mostram que não necessariamente as nossas matrizes de correlação seguem a Wishart. A razão é trivial, nossas matrizes de correlação no mundo real podem ter ouras restrições e simetrias além do $ \\mathbf C = \\mathbf X \\mathbf X^T$. Alguns posts e inclusive artigos fazem os testes assumindo que isso é sempre verdade e batem o martelo sobre a utilidade ou não da RMT, o que não é algo correto.\n",
    "  - A filtragem apenas removendo os autovalores apesar de simples é limitada e pode ser contraprodutiva, outros métodos de filtragem podem ser inclusives melhores(Bongiorno and Challet, 2021). E inclusive não é uma das únicas aplicações de RMT para tratamento desse tipo de dado\n",
    "\n",
    "## Para conhecer mais\n",
    "\n",
    "### Ciêntistas\n",
    "- Alguns grandes nomes de RMT: Madan Lal Mehta, Freeman Dyson, Terrence Tao\n",
    "- Alguns brasileiros: Marcel Novaes autor do livro Ri\n",
    "\n",
    "### Encontrou um erro ou quer melhorar esse texto?\n",
    "\n",
    "- Faça sua contribuição no  cirando uma [issue](https://github.com/devmessias/devmessias.github.io/issues/new) ou um pull request editando esse arquivo aqui [random_matrix_theory/index.md](https://github.com/devmessias/devmessias.github.io/blob/master/content/post/random_matrix_theory/index.md).\n",
    "- Ou envie um email para devmessias@gmail.com. "
   ]
  },
  {
   "cell_type": "code",
   "execution_count": null,
   "metadata": {},
   "outputs": [],
   "source": []
  },
  {
   "cell_type": "code",
   "execution_count": null,
   "metadata": {},
   "outputs": [],
   "source": []
  },
  {
   "cell_type": "markdown",
   "metadata": {},
   "source": [
    "# 4-Referências\n",
    "\n",
    "- [1] M. Kac, “Can One Hear the Shape of a Drum?,” The American Mathematical Monthly, vol. 73, no. 4, p. 1, Apr. 1966, doi: 10.2307/2313748.\n",
    "- [2] Wigner, E.P., 1957. Statistical properties of real symmetric matrices with many dimensions (pp. 174-184). Princeton University.\n",
    "- [4] “From Prime Numbers to Nuclear Physics and Beyond,” Institute for Advanced Study. https://www.ias.edu/ideas/2013/primes-random-matrices (accessed Sep. 30, 2020).\n",
    "\n",
    "- [5] “GUE hypothesis,” What’s new. https://terrytao.wordpress.com/tag/gue-hypothesis/ (accessed Nov. 22, 2021).\n",
    "- [Bongiorno and Challet, 2021] C. Bongiorno and D. Challet, “Covariance matrix filtering with bootstrapped hierarchies,” PLOS ONE, vol. 16, no. 1, p. e0245092, Jan. 2021, doi: 10.1371/journal.pone.0245092.\n"
   ]
  },
  {
   "cell_type": "code",
   "execution_count": 153,
   "metadata": {},
   "outputs": [],
   "source": [
    "!jupyter nbconvert --to markdown index.ipynb"
   ]
  },
  {
   "cell_type": "code",
   "execution_count": null,
   "metadata": {},
   "outputs": [],
   "source": []
  }
 ],
 "metadata": {
  "interpreter": {
   "hash": "cb489cb266766f8ed532eed83fba25aa0113e7044bc1ef55159ca58f22f89db0"
  },
  "kernelspec": {
   "display_name": "Python 3.6.13 64-bit ('py36': conda)",
   "language": "python",
   "name": "python3"
  },
  "language_info": {
   "codemirror_mode": {
    "name": "ipython",
    "version": 3
   },
   "file_extension": ".py",
   "mimetype": "text/x-python",
   "name": "python",
   "nbconvert_exporter": "python",
   "pygments_lexer": "ipython3",
   "version": "3.8.5"
  },
  "orig_nbformat": 4
 },
 "nbformat": 4,
 "nbformat_minor": 2
}
