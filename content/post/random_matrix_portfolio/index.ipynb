{
 "cells": [
  {
   "cell_type": "markdown",
   "metadata": {},
   "source": [
    "---\n",
    "\n",
    "title: \"Variações do teorema central do limite para matrizes aleatórias: de núcleos atômicos a filtragem de matrizes de correlação\"\n",
    "\n",
    "categories: []\n",
    "\n",
    "date: '2021-11-08T00:00:00Z' \n",
    "\n",
    "draft: false \n",
    "\n",
    "featured: no\n",
    "\n",
    "gallery_item: null\n",
    "\n",
    "header:\n",
    "  caption: \"\"\n",
    "  image: \"emate_logo.png\"\n",
    "\n",
    "image:\n",
    "  caption: \n",
    "  focal_point: \n",
    "  preview_only: \n",
    "\n",
    "projects: ['divulgação', 'open-source', 'learn in public']\n",
    "\n",
    "subtitle: Análogos do teorema central do limite para matrizes aleatórias\n",
    "\n",
    "summary:  Discutiremos aqui como é possível ouvir matrizes de correlação usando seu espectro. E como podemos analisar esse \"*barulho*\" usando resultados da teoria de matrizes aleatórias.\n",
    "\n",
    "tags: \n",
    "- portfolio\n",
    "- carteira\n",
    "- matrizes aleatórias\n",
    "- teoria espectral\n",
    "- física\n",
    "- python\n",
    "- otmização\n",
    "- autovalores\n",
    "- história da ciência\n",
    "authors:\n",
    "- Bruno Messias\n",
    "\n",
    "\n",
    "---\n",
    "\n",
    "No célebre trabalho “*Can One Hear the Shape of a Drum?*”[1] Kack questiona se conhecendo o espectro (*som*) de um certo operador que define as oscilações de uma membrana (*tambor*) seria possível identificar o formato de tal membrana de maneira unívoca. Discutiremos aqui como é possível ouvir matrizes de correlação usando seu espectro e como podemos remover o ruído desse som usando resultados da teoria de matrizes aleatórias. Veremos como essa filtragem pode aprimorar algoritmos de construção de carteiras de investimentos.\n",
    "\n",
    "\n",
    "> Minhas motivações para escrever esse texto foram o movimento [Learn In Public-Sibelius Seraphini](https://twitter.com/sseraphini/status/1458169250326142978) e o Nobel de Física de 2021. Um dos temas de Giorgio Parisi  é o estudo de matrizes aleatórias [www.nobelprize.org 2021](https://www.nobelprize.org/uploads/2021/10/sciback_fy_en_21.pdf).\n",
    "\n",
    "..\n",
    "> Jupyter notebook disponível [aqui](https://github.com/devmessias/devmessias.github.io/blob/master/content/post/random_matrix_portfolio/index.ipynb)\n"
   ]
  },
  {
   "cell_type": "markdown",
   "metadata": {},
   "source": [
    "\n",
    "# 1-Introdução: teorema central do limite\n",
    "O teorema central do limite está no coração da análise estatística. Em poucas palavras o mesmo estabelece o seguinte.\n",
    "\n",
    "> Suponha uma amostra $A = (x_1, x_2, \\dots, x_n)$ de uma variável aleatória com média $\\mu$ e variância $\\sigma^2$ finita. Se a amostragem é $i.i.d.$ o teorema central do limite estabelece que a \n",
    ">  distribuição de probababilidade da média amostral converge \n",
    "> para uma distribuição normal com variância $\\sigma^2/n$ e média $\\mu$ a medida que $n$ aumenta.\n",
    "\n",
    "Note que eu não disse nada a respeito de como tal amostra foi gerada; em nenhum momento citei distribuição de Bernoulli, Gauss, Poisson, etc. Desta maneira podemos dizer que tal convergência é uma propriedade **universal** de amostras aleatórias $i.i.d.$. Essa universalidade é poderosa, pois  garante que é possível estimar a média e variância de uma população  através de um conjunto de amostragens. \n",
    "\n",
    "Não é difícil fazer um experimento computacional onde a implicação desse teorema apareça\n",
    "\n"
   ]
  },
  {
   "cell_type": "code",
   "execution_count": 6,
   "metadata": {},
   "outputs": [],
   "source": [
    "import numpy as np\n",
    "import matplotlib.pyplot as plt\n",
    "import pandas as pd\n",
    "import seaborn as sns\n",
    "import warnings\n",
    "from matplotlib import style\n",
    "\n",
    "warnings.filterwarnings('ignore')\n",
    "style.use('seaborn-white')\n",
    "\n",
    "np.random.seed(22)"
   ]
  },
  {
   "cell_type": "markdown",
   "metadata": {},
   "source": [
    "Usaremos uma amostragem de uma distribuição exponencial com média $\\mu = 4$. Tal distribuição tem uma variância dada por $1/\\mu^2$. Faremos $10000$ experimentos com amostras de tamanho $500$. Posteriormente calcularemos a media de cada experimento, `mean_by_exp`"
   ]
  },
  {
   "cell_type": "code",
   "execution_count": 65,
   "metadata": {},
   "outputs": [],
   "source": [
    "rate = 0.25\n",
    "\n",
    "mu = 1/rate\n",
    "\n",
    "sample_size=500\n",
    "exponential_sample = np.random.exponential(mu, size=(sample_size, 30000))\n",
    "mean_by_exp = exponential_sample.mean(axis=0)"
   ]
  },
  {
   "cell_type": "markdown",
   "metadata": {},
   "source": [
    "Agora basta plotar o histograma em comparação com a distribuição normal dada pelo teorema central do limite"
   ]
  },
  {
   "cell_type": "code",
   "execution_count": 57,
   "metadata": {},
   "outputs": [],
   "source": [
    "sns.distplot(mean_by_exp, norm_hist=True, label='sample')\n",
    "x = np.linspace(2.5, 5.5, 100)\n",
    "var = mu**2/(sample_size)\n",
    "y = np.exp(-(x-mu)**2/(2*var))/np.sqrt(2*np.pi*var)\n",
    "plt.plot(x, y, label=r'$N(\\mu, \\sigma)$', c='tomato')\n",
    "plt.legend()\n",
    "plt.xlim(3., 5)\n",
    "plt.savefig('exponential_distribution.png', facecolor='w')\n",
    "plt.close()"
   ]
  },
  {
   "cell_type": "markdown",
   "metadata": {},
   "source": [
    "![\"exponential_distribution.png\"](exponential_distribution.png)"
   ]
  },
  {
   "cell_type": "markdown",
   "metadata": {},
   "source": [
    "Note  na figura acima que o plot para a função $\\frac{e^{-\\frac{(x-\\mu)^2}{2\\sigma^2}}}{\\sqrt(2\\pi\\sigma^2)}$ e o histograma coincidem.  Você pode testar essa coincidência com outras distribuições, o mesmo comportamento se repetira. É isso que quero dizer com **universalidade**.\n",
    "\n",
    "Um questionamento válido é que estamos tratando apenas de uma variável aleatória e sua amostragem. Mas no mundo real existem outras estruturas mais intricadas. Por exemplo\n",
    " pegue um conjunto de variáveis aleatórias \n",
    "$\\mathcal C=(X_{1 1}, X_{1 2}, \\cdots, X_{N N})$,  suponha que exista uma certa **simetria** nesse conjunto, uma possibilidade é $X_{i j} = X_{j i}$.\n",
    "Não é difícil imaginar situações onde tal conjunto apareça. \n",
    "\n",
    "Podemos armazenar uma realização de $\\mathcal C$ em uma matriz que nada mais é que um grafo completo com pesos. Ao estudar essas matrizes oriundas desse tipo de amostragem entramos em um novo campo da matemática, o campo das matrizes aleatórias. \n",
    "Nesse campo de estudos uma amostragem não retorna um número, mas sim uma matriz.\n",
    "\n",
    "A função `normalRMT` apresentada abaixo é um gerador de matrizes aleatórias conhecidas como Gaussianas ortogonais."
   ]
  },
  {
   "cell_type": "code",
   "execution_count": 2,
   "metadata": {},
   "outputs": [
    {
     "name": "stdout",
     "output_type": "stream",
     "text": [
      "[[-1.441e+00 -2.585e-01 -1.349e-01]\n",
      " [-2.585e-01 -2.304e-01  1.166e-03]\n",
      " [-1.349e-01  1.166e-03 -1.272e+00]],\n",
      "\n",
      "[[-0.742  0.607 -0.34 ]\n",
      " [ 0.607  0.678  0.277]\n",
      " [-0.34   0.277 -0.127]]\n"
     ]
    }
   ],
   "source": [
    "def normalRMT(n=100):\n",
    "    \"\"\"Generate a random matrix with normal distribution entries\n",
    "    Args:\n",
    "        n : (int) number of rows and columns\n",
    "    Returns:\n",
    "        m : (numpy.ndarray) random matrix\n",
    "\n",
    "    \"\"\"\n",
    "    std = 1/np.sqrt(2)\n",
    "    m = np.random.normal(size=(n,n), scale=std)\n",
    "    m = (m+m.T)\n",
    "    m /= np.sqrt(n)\n",
    "    return m\n",
    "np.set_printoptions(precision=3)\n",
    "print(f'{normalRMT(3)},\\n\\n{normalRMT(3)}')"
   ]
  },
  {
   "cell_type": "markdown",
   "metadata": {},
   "source": [
    "Sabemos que quando estamos trantando de variáveis aleatórias  o teorema central do limite é importantíssimo. O que você pode se perguntar agora é: **Existe um análogo para o teorema central do limite para matrizes aleatórias?**"
   ]
  },
  {
   "cell_type": "markdown",
   "metadata": {},
   "source": [
    "# 2-Núcleos atômicos, gás de números primos e universalidade\n",
    "\n",
    "Para o bem e para o mal o conhecimento da física atômica foi um dos temas mais importantes desenvolvidos pela humanidade. Portanto, não é de se estranhar que após o ano de 1930 iniciou-se uma grande corrida para compreender núcleos atômicos pesados e a física de nêutrons [13].\n",
    "\n",
    "Para compreender essa nova física de nêutrons era necessário conhecer a organização do  espectro de ressonância dos núcleos pesados (esse espectro nada mais é que os autovalores de um operador muito especial). Uma maneira de se fazer isso é do jeito que muitas das coisas são estudadas na física: pegando se uma coisa  e jogando na direção da coisa a ser estudada. Essa metodologia experimental torna possível amostrar alguns valores possíveis para o espectro. Contudo, acredito que não preciso argumentar que fazer isso naquela época era extremamente difícil e caro. Poucos centros conseguiam realizar alguns experimentos e ainda com uma resolução muito baixa para obter resultados suficientes para uma compreensão adequada dos núcleos. Era preciso uma saída mais barata e ela foi encontrada. Tal saída dependeu apenas de física-matemática e maços de papel. "
   ]
  },
  {
   "cell_type": "markdown",
   "metadata": {},
   "source": [
    "![](frog.png)"
   ]
  },
  {
   "cell_type": "markdown",
   "metadata": {},
   "source": [
    "Dentre os pioneiros que decidiram atacar o problema de núcleos pesados usando matemática temos Eugene Paul Wigner (Nobel de 1963).  A grande sacada de Wigner foi perceber que o fato das interações nucleares serem tão complicadas e a infinitude de graus de liberdade seria possível tentar compreender essas interações como uma amostragem sujeita a certas condições de simetria.[10 , 11]\n",
    "\n",
    "![wigner.png](wigner.png)\n",
    "\n",
    "\n",
    "Aqui com simetria queremos dizer que as matrizes envolvidas possuem certas restrições tais como \n",
    "\n",
    "```python \n",
    "np.assert_equal(A, A.T)\n",
    "```\n",
    "\n",
    "Na próxima seção veremos qual o impacto dessas restrições na distribuição de autovalores das matrizes envolvidas.\n",
    "\n"
   ]
  },
  {
   "cell_type": "markdown",
   "metadata": {},
   "source": [
    "## 2-a) Universalidade e lei do   semicírculo\n",
    "\n",
    "\n",
    "A função `normalRMT` gera uma matriz simétrica onde as entradas são extraídas de uma distribuição normal. A função `laplaceRMT` gera também uma matriz simétrica, contudo as entradas são amostras de uma distribuição de Laplace."
   ]
  },
  {
   "cell_type": "code",
   "execution_count": 3,
   "metadata": {},
   "outputs": [],
   "source": [
    "\n",
    "def laplaceRMT(n=100):\n",
    "    \"\"\"Generate a random matrix with Laplace distribution\n",
    "    Args:\n",
    "        n : (int) size of the matrix\n",
    "    Returns:\n",
    "        m : (numpy.ndarray) random matrix with Laplace distribution\n",
    "\n",
    "    \"\"\"\n",
    "    # we know that the variance of the laplace distribution is 2*scale**2\n",
    "    scale = 1/np.sqrt(2)\n",
    "    m = np.zeros((n,n))\n",
    "\n",
    "    values = np.random.laplace(size=n*(n-1)//2, scale=scale)\n",
    "    m[np.triu_indices_from(m, k=1)] = values\n",
    "    # copy the upper diagonal to the lower diagonal\n",
    "    m[np.tril_indices_from(m, k=-1)] = values \n",
    "    np.fill_diagonal(m, np.random.laplace(size=n, scale=scale))\n",
    "    m = m/np.sqrt(n)\n",
    "    return m"
   ]
  },
  {
   "cell_type": "markdown",
   "metadata": {},
   "source": [
    "As propriedades **universais** que iremos explorar aqui estão ligadas aos autovalores das matrizes que foram amostradas. Como nossas matrizes são simétricas  esses autovalores são todos reais.\n",
    "\n",
    "Como cada matriz é diferente os autovalores também serão, eles também são variáveis aleatórias."
   ]
  },
  {
   "cell_type": "code",
   "execution_count": 4,
   "metadata": {},
   "outputs": [],
   "source": [
    "vals_laplace = np.array([\n",
    "    np.linalg.eigh(laplaceRMT(n=100))[0]\n",
    "    for i in range(100)\n",
    "])\n",
    "vals_normal = np.array([\n",
    "    np.linalg.eigh(normalRMT(n=100))[0]\n",
    "    for i in range(100)\n",
    "])"
   ]
  },
  {
   "cell_type": "markdown",
   "metadata": {},
   "source": [
    "Na decáda de 50 não havia poder computacional \n",
    "suficiente para realizar investigações númericas, mas você pode facilmente investigar como os  autovalores se distribuem usando seu computador e gerando os histogramas"
   ]
  },
  {
   "cell_type": "code",
   "execution_count": 5,
   "metadata": {},
   "outputs": [],
   "source": [
    "t = 1\n",
    "x  =   np.linspace(-2*t, 2*t, 100)\n",
    "y =  np.zeros_like(x)\n",
    "x0 = x[4*t-x*2>0]\n",
    "y[4*t-x*2>0] = np.sqrt(4*t-x0**2)/(2*np.pi*t)\n",
    "\n",
    "plt.figure(facecolor='white')\n",
    "plt.hist(vals_laplace.flatten(), bins=50, \n",
    "hatch ='|',\n",
    "density=True, label='laplace', alpha=.2)\n",
    "plt.hist(vals_normal.flatten(), bins=50,\n",
    "hatch ='o', \n",
    "density=True, label='normal', alpha=.2)\n",
    "#sns.distplot(vals_laplace, norm_hist=True, label='Laplace')\n",
    "#sns.distplot(vals_normal, norm_hist=True, label='Normal')\n",
    "#sns.distplot(vals2, norm_hist=True, label='sample2')\n",
    "plt.plot(x, y, label='analytical')\n",
    "plt.xlabel(r'$\\lambda$')\n",
    "plt.ylabel(r'$\\rho(\\lambda)$')\n",
    "plt.legend()\n",
    "plt.savefig('RMT_distribution.png', facecolor='w')\n",
    "plt.close()"
   ]
  },
  {
   "cell_type": "markdown",
   "metadata": {},
   "source": [
    "![](RMT_distribution.png)"
   ]
  },
  {
   "cell_type": "markdown",
   "metadata": {},
   "source": [
    "Veja na figura acima que a distribuição de autovalores de matrizes simétricas  relacionadas com a distribuição normal e de Laplace coincidem. O que estamos vendo aqui é uma propriedade **universal**! Espero que você acredite em mim, mas dado que você tenha uma matriz aleatória simétrica, quadrada e se as entradas são $i.i.d.$  a distribuição de autovalores seguem o que é conhecido como lei de   semicírculo de Wigner. Se a média e variância das entradas da matriz são  $0$ e $1$  respectivamente, então tal lei tem a seguinte expressão para a distribuição de probabilidade dos autovalores\n",
    "$$\n",
    "\\rho(\\lambda) = \\begin{cases}\n",
    "\\frac{\\sqrt{4-\\lambda^2}}{(2\\pi)}  \\textrm{ se } 4-\\lambda^2 \\leq 0\\newline\n",
    "0  \\textrm{ caso contrário.} \n",
    "\\end{cases}\n",
    "$$\n",
    "\n",
    "  Se trocarmos as simetrias, restrições ou formato (`array.shape[0]!=array.shape[1]`) das matrizes podemos encontrar variações  da distribuição apresentada acima. Exemplo se a matriz é complexa mas Hermitiana, ou  se é \"retangular\" e real tal como algums matrizes que são usadas para otimizar carteiras de investimento. A próxima seção mostrará um caso com outro formato para universalidade.\n"
   ]
  },
  {
   "cell_type": "markdown",
   "metadata": {},
   "source": [
    "## 2-b) Repulsão entre números primos\n"
   ]
  },
  {
   "cell_type": "markdown",
   "metadata": {},
   "source": [
    "Inciamos nosso texto falando sobre como a teoria de matrizes aleatórias floreceu com os estudos estatísticos de núcleos atômicos pesados, especificamente nos trabalhos de Wigner. Embora tenha essa origem, muitas vezes ferramentas matemáticas desenvolvidas apenas por motivações práticas alcançam outros ramos da matemática. Brevemente discutirei aqui alguns pontos e relações com uma das conjecturas mais famosas da matemática: a hipótese de Riemann.\n",
    "\n",
    "\n",
    "Qualquer pessoa com alguma curiosidade sobre matemática já ouviu falar sobre a hipótese de Riemann. Essa hipótese estabele uma relação entre os zeros da função zeta de Riemann e a distribuição de números primos.  Dada sua importância os maiores ciêntistas do século XX se debruçaram sobre ela almejando a imortalidade. Um desses ciêntistas foi  Hugh Montgomery[4]. \n",
    "\n",
    "Por volta de 1970 Montgomery notou que os zeros da função zeta tinham uma certa propriedade cuirosa, pareciam repelir uns aos outros. Uma expressão foi obtidada,  que é a seguinte\n",
    "\n",
    "$$\n",
    "1 - \\left( \\frac{\\sin (\\pi u)}{\\pi u}\\right)^2 + \\delta(u)\n",
    "$$\n",
    "\n",
    "Não se preocupe em entender a expressão acima, ela está aqui apenas for motivos estéticos. \n",
    "O que importa é que ela é simples, tão simples que quando Freeman Dyson  - um dos gigantes da física-matemática - colocou os olhos sobre tal equação ele notou imediatamente que tal equação era idêntica a obtida no contexto de matrizes aleatórias Hermitianas (uma matriz é hermitiana se ela é igual a sua transporta conjugada) utilizadas para compreender o comportamento de núcleos de átomos pesados, tais como urânio. A imagem abaixo é uma carta  escrita por Dyson."
   ]
  },
  {
   "cell_type": "markdown",
   "metadata": {},
   "source": [
    "![](carta.png)"
   ]
  },
  {
   "cell_type": "markdown",
   "metadata": {},
   "source": [
    "As conexão entre um ferramental desenvolvido para estudar núcleos atômicos e números primos era realmente inesperada e talvez seja um dos caminhos para a prova da hipotese de Riemann[5, 2]. Contudo deixemos a história de lado, e voltemos ao ponto principal que é te dar outro exemplo de universalidade. \n",
    "\n",
    "Lembra que Montgomery disse que parecia haver uma repulsão entre os zeros da função Zeta? O que seria esse conceito de repulsão em matrizes aleatórias? Vamos checar numericamente "
   ]
  },
  {
   "cell_type": "markdown",
   "metadata": {},
   "source": [
    "Voltaremos a usar nossas matrizes aleatórias geradas por distribuições Gaussianas e Laplacianas. Usando o mesmo conjunto de autovalores que obtivemos anteriormente iremos calular o espaçamento entre cada par de autovalores para cada realização de uma matriz aleatória. É bem fácil, basta chamar a função `diff` do numpy"
   ]
  },
  {
   "cell_type": "code",
   "execution_count": 6,
   "metadata": {},
   "outputs": [],
   "source": [
    "diff_laplace = np.diff(vals_laplace, axis=1)\n",
    "diff_normal = np.diff(vals_normal, axis=1)"
   ]
  },
  {
   "cell_type": "markdown",
   "metadata": {},
   "source": [
    "Agora o que faremos é estimar a densidade de probabilidade usnado KDE. Mas antes disso aqui vai uma dica: \n",
    "\n",
    ">**Evite o KDE do sklearn no seu dia a dia, a implementação é lenta e não flexivél. Difícilmente você conseguirá bons resultados com milhões de pontos. Aqui vou usar uma implementação de KDE mais eficiente você pode instalar ela execuntando o comando abaixo**"
   ]
  },
  {
   "cell_type": "code",
   "execution_count": null,
   "metadata": {},
   "outputs": [],
   "source": [
    "!pip install KDEpy"
   ]
  },
  {
   "cell_type": "code",
   "execution_count": 16,
   "metadata": {},
   "outputs": [],
   "source": [
    "from KDEpy import FFTKDE\n",
    "\n",
    "estimator_normal = FFTKDE( bw='silverman').fit(diff_normal.flatten())\n",
    "x_normal, probs_normal = estimator_normal.evaluate(100)\n",
    "mu_normal = np.mean(diff_normal, axis=1).mean()\n",
    "\n",
    "estimator_laplace = FFTKDE( bw='silverman').fit(diff_laplace.flatten())\n",
    "x_laplace, probs_laplace = estimator_laplace.evaluate(100)\n",
    "mu_laplace = np.mean(diff_laplace, axis=1).mean()"
   ]
  },
  {
   "cell_type": "code",
   "execution_count": 53,
   "metadata": {},
   "outputs": [],
   "source": [
    "goe_law = lambda x: np.pi*x*np.exp(-np.pi*x**2/4)/2\n",
    "spacings = np.linspace(0, 4, 100)\n",
    "p_s = goe_law(spacings)\n",
    "\n",
    "plt.plot(spacings, p_s, label=r'GOE analítico', c='orange', linestyle='--')\n",
    "plt.plot(\n",
    "    x_normal/mu_normal, \n",
    "    probs_normal*mu_normal, \n",
    "    linestyle=':',\n",
    "    linewidth=2,\n",
    "    zorder=1,\n",
    "    label='normal', c='black')\n",
    "plt.plot(x_laplace/mu_laplace, probs_laplace*mu_laplace, zorder=2,\n",
    "linestyle='--', label='laplace', c='tomato')\n",
    "plt.legend()\n",
    "plt.savefig('RMT_diff_distribution.png', facecolor='w')\n",
    "plt.close()"
   ]
  },
  {
   "cell_type": "markdown",
   "metadata": {},
   "source": [
    "![](RMT_diff_distribution.png)"
   ]
  },
  {
   "cell_type": "markdown",
   "metadata": {},
   "source": [
    "O que as distribuições acima dizem é que dado sua matriz ser $i.i.d.$ quadrada e simétrica então a probabilidade que você encontre dois autovalores iguais é $0$ (zero). Além do mais, existe um ponto de máximo global em relação a distribuição de espaçamentos. Esse comportamento que balanceia repulsão e atração dos autovalores lembra o comportamento de partículas em um fluído. Não é de espantar que o método matemático desenvolvido por Wigner para compreender tais matrizes foi denominado Gás de Coloumb[2].\n",
    "\n",
    "Agora que você tem pelo menos uma ideia do que seria essa repulsão para o caso que já abordamos (matrizes simétricas quadradas) voltemos ao problema dos números primos.\n",
    "\n",
    "O comando a seguir baixa os primeiros 100k zeros da função zeta "
   ]
  },
  {
   "cell_type": "code",
   "execution_count": 37,
   "metadata": {},
   "outputs": [],
   "source": [
    "!wget http://www.dtc.umn.edu/~odlyzko/zeta_tables/zeros1"
   ]
  },
  {
   "cell_type": "markdown",
   "metadata": {},
   "source": [
    "Um pequeno preprocessamento dos dados:"
   ]
  },
  {
   "cell_type": "code",
   "execution_count": 59,
   "metadata": {},
   "outputs": [],
   "source": [
    "zeros = []\n",
    "with open('zeros1', 'r') as f:\n",
    "    for line in f.readlines():\n",
    "        # remove all spaces in the line and convert it to a float\n",
    "        zeros.append(float(line.replace(' ', '')))\n",
    "zeta_zeros = np.array(zeros)"
   ]
  },
  {
   "cell_type": "markdown",
   "metadata": {},
   "source": [
    "Iremos calcular os espaçamentos entre os zeros, a  média de tais espaçamento e executar um KDE"
   ]
  },
  {
   "cell_type": "code",
   "execution_count": 71,
   "metadata": {},
   "outputs": [],
   "source": [
    "from KDEpy import FFTKDE\n",
    "\n",
    "diff_zeta = np.diff(zeta_zeros[10000:])\n",
    "m = np.mean(diff_zeta)\n",
    "estimator = FFTKDE( bw='silverman').fit(diff_zeta)\n"
   ]
  },
  {
   "cell_type": "code",
   "execution_count": 73,
   "metadata": {},
   "outputs": [],
   "source": [
    "x, probs = estimator.evaluate(100)\n",
    "p = np.pi\n",
    "goe_law = lambda x: p*x*np.exp(-p*x**2/4)/2\n",
    "def gue(xs):\n",
    "    arg = -4/np.pi*np.power(xs,2)\n",
    "    vals = 32/np.pi**2*xs**2*np.exp(arg)\n",
    "    return vals\n",
    "spacings = np.linspace(0, 4, 100)\n",
    "p_s = gue(spacings)\n",
    "p_s2 = goe_law(spacings)\n",
    "plt.plot(x/m, probs*m, label='zeros zeta', linestyle='--')\n",
    "plt.plot(spacings, p_s, label=r'GUE analítico', c='blue', linestyle='-.')\n",
    "plt.plot(spacings, p_s2, label=r'GOE analitico', c='orange', linestyle='-.')\n",
    "plt.xlim(-0.1, 4)\n",
    "plt.legend()\n",
    "plt.savefig('zeta.png', facecolor='w')\n",
    "plt.close()"
   ]
  },
  {
   "cell_type": "markdown",
   "metadata": {},
   "source": [
    "![](zeta.png)"
   ]
  },
  {
   "cell_type": "markdown",
   "metadata": {},
   "source": [
    "Veja que a propriedade de repulsão apareceu novamente. Note que dentro do plot eu coloquei uma outra curva `GOE analítico`, essa curva é aquela que melhor descreve a distribuição de espaçamentos quando suas matrizes aleatórias são simétricas. Isso é uma lição importante aqui e resalta o que eu já disse anteriormente. Não temos apenas *\"um limite central para matrizes aleatórias*\", mas todo um **zoológico que mudará dependendo do tipo do seu problema.**. "
   ]
  },
  {
   "cell_type": "markdown",
   "metadata": {},
   "source": [
    "# 3-Usando *RMT* para encontrar e filtrar ruídos em matrizes\n",
    "\n",
    "Na seção 1 relembramos o resultado do teorema central do limite. Na seção 2 foi mostrado que devemos ter em mente as simetrias e restrições do nosso problema para analisar qual regra de universalidade é respeitada. Isto é: a depender da simetria e restrições das nossas matrizes temos um outro \"*timbre de universalidade*\".\n",
    "\n",
    "Um exemplo de outro timbre surge no espectro de matrizes de correlação; matrizes que são comumente utilizadas para análise de carteiras de investimento. Tais matrizes tem **pelo menos a seguinte estrutura**:\n",
    "\n",
    "$$\n",
    "\\mathbf C = \\mathbf X \\mathbf X^T\n",
    "$$\n",
    "onde $\\mathbf X$ é uma matriz real $N\\times M$ e $M>N$. \n",
    "\n",
    "O código abaixo permite explorar em um exemplo o espectro de matrizes aleatórias  $N\\neq M$ com entradas dadas pela distribuição normal.\n"
   ]
  },
  {
   "cell_type": "code",
   "execution_count": 7,
   "metadata": {},
   "outputs": [],
   "source": [
    "def get_marchenko_bounds(Q, sigma=1):\n",
    "    \"\"\"Computes the Marchenko bounds for a given Q and sigma.\n",
    "\n",
    "    Args:\n",
    "        Q : (float) The Q-value.\n",
    "        sigma : (float) The std value. \n",
    "    Returns:\n",
    "        (float, float): The lower and upper bounds for the eigenvalues.\n",
    "\n",
    "    \"\"\"\n",
    "    QiSqrt = np.sqrt(1/Q)\n",
    "    lp = np.power(sigma*(1 + QiSqrt),2) \n",
    "    lm = np.power(sigma*(1 - QiSqrt),2) \n",
    "    return lp, lm\n",
    "\n",
    "def marchenko_pastur(l, Q, sigma=1):\n",
    "    \"\"\"Return the probability of a Marchenko-Pastur distribution for \n",
    "    a given Q , sigma and eigenvalue.\n",
    "\n",
    "    Args:\n",
    "        l : (float) The eigenvalue.\n",
    "        Q : (float) The Q-value.\n",
    "        sigma : (float) The std value.\n",
    "    Returns:\n",
    "        (float): The probability\n",
    "    \"\"\"\n",
    "    lp, lm = get_marchenko_bounds(Q, sigma)\n",
    "    # outside the interval [lm, lp]\n",
    "    if l > lp or l < lm:\n",
    "        return 0\n",
    "    return (Q/(2*np.pi*sigma*sigma*l))*np.sqrt((lp-l)*(l-lm))\n",
    "\n",
    "def plot_marchenko_pastur(ax, eigen_values, Q, sigma=1, bins=100, just_the_bulk=False):\n",
    "    \"\"\"Plots the Marchenko-Pastur distribution for a given Q and sigma \n",
    "    \n",
    "    Args:\n",
    "        ax  : (matplotlib.axes) The axes to plot on.\n",
    "        eigen_values : (np.array) The eigenvalues.\n",
    "        Q  : (float) : The Q-value.\n",
    "        sigma : (float) std\n",
    "        bins : (int) The number of bins to use.\n",
    "        just_the_bulk : (bool) If True, only the eigenvalues inside of \n",
    "            the Marchenko-Pastur bounds are plotted.\n",
    "\n",
    "    \"\"\"\n",
    "    l_max, l_min = get_marchenko_bounds(Q, sigma)\n",
    "    eigenvalues_points = np.linspace(l_min, l_max, 100)\n",
    "    pdf = np.vectorize(lambda x : marchenko_pastur(x, Q, sigma))(eigenvalues_points)\n",
    "    if just_the_bulk:\n",
    "        eigen_values = eigen_values[ (eigen_values < l_max)]\n",
    "    ax.plot(eigenvalues_points, pdf, color = 'r', label='Marchenko-Pastur')\n",
    "    ax.hist(eigen_values,  label='sample', bins=bins , density=True)\n",
    "    ax.set_xlabel(r\"$\\lambda$\")\n",
    "    ax.set_ylabel(r\"$\\rho$\")\n",
    "    ax.legend()\n",
    "\n",
    "N = 1000\n",
    "T = 4000\n",
    "Q = T/N\n",
    "\n",
    "X = np.random.normal(0,1,size=(N,T))\n",
    "cor = np.corrcoef(X)\n",
    "vals = np.linalg.eigh(cor)[0]\n",
    "\n",
    "fig, ax = plt.subplots(1,1)\n",
    "plot_marchenko_pastur(ax, vals, Q, sigma=1, bins=100)\n",
    "\n",
    "plt.legend()\n",
    "plt.savefig('Marchenko_Pastur.png', facecolor='w')\n",
    "plt.close()"
   ]
  },
  {
   "cell_type": "markdown",
   "metadata": {},
   "source": [
    "![](Marchenko_Pastur.png)\n",
    "\n",
    "\n",
    "\n",
    "A função em vermelho na figura acima é a **universalidade** que aparece em matrizes com a restrição $N\\times M$ e entradas $i.i.d.$ e média $0$. Tal **universalidade** tem como formato a distribuição de Marchenko-Pastur que é dada por \n",
    "\n",
    "$$\n",
    "\\rho (\\lambda) = \\frac{Q}{2\\pi \\sigma^2}\\frac{\\sqrt{(\\lambda_{\\max} - \\lambda)(\\lambda - \\lambda_{\\min})}}{\\lambda}\n",
    "$$\n",
    "onde\n",
    "$$\n",
    "\\lambda_{\\max,\\min} = \\sigma^2(1 \\pm \\sqrt{\\frac{1}{Q}})^2.\n",
    "$$\n",
    "\n",
    "Note os parâmetros como $Q$ e $\\sigma$. Tais  parâmetros precisam ser ajustados para obter um melhor fit com dados reais. \n",
    "\n",
    "\n",
    "Agora iremos para um caso real. Vamos usar dados obtidos via Yahoo Finance com a biblioteca `yfinance` para consturir uma matriz de correlação com dados de ativos financeiros"
   ]
  },
  {
   "cell_type": "code",
   "execution_count": 8,
   "metadata": {},
   "outputs": [],
   "source": [
    "# você precisa desse pacote para baixar os dados\n",
    "!pip install yfinance"
   ]
  },
  {
   "cell_type": "markdown",
   "metadata": {},
   "source": [
    "Isso aqui é um post bem informal, então  peguei peguei uma lista aleatória com alguns tickers que encontrei na internet"
   ]
  },
  {
   "cell_type": "code",
   "execution_count": null,
   "metadata": {},
   "outputs": [],
   "source": [
    "\n",
    "!wget https://raw.githubusercontent.com/shilewenuw/get_all_tickers/master/get_all_tickers/tickers.csv"
   ]
  },
  {
   "cell_type": "markdown",
   "metadata": {},
   "source": [
    "selecionei apenas 500 para evitar que o processo de download seja muito demorado\n"
   ]
  },
  {
   "cell_type": "code",
   "execution_count": 8,
   "metadata": {},
   "outputs": [],
   "source": [
    "tickers = np.loadtxt('tickers.csv', dtype=str, delimiter=',').tolist()\n",
    "tickers = np.random.choice(tickers, size=500, replace=False).tolist()"
   ]
  },
  {
   "cell_type": "markdown",
   "metadata": {},
   "source": [
    "vamos baixar agora os dados em um periódo específico"
   ]
  },
  {
   "cell_type": "code",
   "execution_count": null,
   "metadata": {},
   "outputs": [],
   "source": [
    "\n",
    "import yfinance as yf\n",
    "\n",
    "df  = yf.download (tickers, \n",
    "                   start=\"2017-01-01\", end=\"2019-10-01\",\n",
    "                   interval = \"1d\",\n",
    "                   group_by = 'ticker',\n",
    "                   progress = True)"
   ]
  },
  {
   "cell_type": "markdown",
   "metadata": {},
   "source": [
    "o  `yfinance` vai gerar um dataframe com multiindex, então precisamos separar da \n",
    "forma que queremos"
   ]
  },
  {
   "cell_type": "code",
   "execution_count": 10,
   "metadata": {},
   "outputs": [],
   "source": [
    "\n",
    "tickers_available = list(set([ ticket for ticket, _ in df.columns.T.to_numpy()]))\n",
    "prices = pd.DataFrame()\n",
    "for ticker in tickers_available:\n",
    "    try:\n",
    "        prices[ticker] = df[(ticker, 'Adj Close')]\n",
    "    except KeyError:\n",
    "        pass"
   ]
  },
  {
   "cell_type": "markdown",
   "metadata": {},
   "source": [
    "Agora iremos calcular o retorno. Aqui entra um ponto delicado. Você poderá achar alguns posts na internet ou mesmo artigos argumentando que é necessário calcular o retorno como \n",
    "$\\log (r+1)$ pois assim as entradas da sua matriz seguirá uma distribuição normal o que permitirá a aplicação de RMT. Já vimos no presente texto que não precisamos que as entradas da matrizes venham de uma distribuição normal para que a **universalidade** apareça. A  escolha ou não de usar $\\log$ nos retornos merece mais atenção, inclusive com críticas em relação ao uso[6, 7, 8]. Mas esse  post não pretende te vender nada, por isso vou ficar com o mais simples."
   ]
  },
  {
   "cell_type": "code",
   "execution_count": 29,
   "metadata": {},
   "outputs": [],
   "source": [
    "# calculamos os retornos\n",
    "returns_all = prices.pct_change()\n",
    "\n",
    "# a primeira linha não faz sentido, não existe retorno no primeiro dia\n",
    "returns_all = returns_all.iloc[1:, :]\n",
    "\n",
    "# vamos limpar todas as linhas se mnegociação e dropar qualquer coluna com muitos NaN\n",
    "returns_all.dropna(axis = 1, thresh=len(returns_all.index)/2, inplace=True)\n",
    "returns_all.dropna(axis = 0, inplace=True)\n",
    "# seleciona apenas 150 colunas \n",
    "returns_all = returns_all[np.random.choice(returns_all.columns, size=120, replace=False)]\n",
    "#returns_all = returns_all.iloc[150:]"
   ]
  },
  {
   "cell_type": "markdown",
   "metadata": {},
   "source": [
    "Com o `df` pronto calcularemos a matriz de correlação e seus autovalores"
   ]
  },
  {
   "cell_type": "code",
   "execution_count": 30,
   "metadata": {},
   "outputs": [],
   "source": [
    "correlation_matrix = returns_all.interpolate().corr()\n",
    "vals = np.linalg.eigh(correlation_matrix.values)[0]"
   ]
  },
  {
   "cell_type": "markdown",
   "metadata": {},
   "source": [
    "Vamos usar os parâmetros padrões para $Q$ e $\\sigma$ e torcer para que funcione"
   ]
  },
  {
   "cell_type": "code",
   "execution_count": 31,
   "metadata": {},
   "outputs": [],
   "source": [
    "\n",
    "T, N = returns_all.shape\n",
    "Q=T/N\n",
    "sigma= 1\n",
    "\n",
    "fig, ax = plt.subplots(1,1)\n",
    "plot_marchenko_pastur(ax, vals, Q, sigma=1, bins=200, just_the_bulk=False)\n",
    "\n",
    "plt.legend()\n",
    "plt.savefig('Marchenko_Pastur_all.png', facecolor='w')\n",
    "plt.close()"
   ]
  },
  {
   "cell_type": "markdown",
   "metadata": {},
   "source": [
    "![](Marchenko_Pastur_all.png)\n",
    "\n",
    "Usando todo o intervalo de tempo do nosso `df` obtivemos o que parece um ajuste razoável. É claro que você poderia (deveria) rodar algum teste estatistico para verificar tal ajuste. \n",
    "Existem alguns trabalhos que fizeram essa análise de forma rigorosa, comparando mercados e periódos específicos em relação a distribuição de Marchenko-Pastur[9].  \n",
    "\n",
    "Se você for uma pessoa atenta notará que na imagem acima existem alguns autovalores fora do suporte da Marchenko-Pastur.  A ideia de filtragem via RMT é como dito em [9] testar seus dados em relação a \"*hipótese nula*\" da RMT. No caso se seus autovalores estão dentro do *bulk* da distribuição que descreve um modelo de entradas *i.i.d.*. \n",
    "\n",
    "\n",
    "Como isso foi aplicado em alguns trabalhos? Vamos ver na prática. \n",
    "\n",
    "\n",
    "Usaremos $70$% da série histórica para calcular uma nova matriz de correlação. Com a matriz de correlação em mãos vamos computar os autovalores e autovetores.\n"
   ]
  },
  {
   "cell_type": "code",
   "execution_count": 32,
   "metadata": {},
   "outputs": [],
   "source": [
    "# iremos usar 70% da serie para realizar a filtragem\n",
    "returns_all.shape[0]*0.70\n",
    "n_days = returns_all.shape[0]\n",
    "n_days_in = int(n_days*(1-0.70))\n",
    "\n",
    "\n",
    "returns = returns_all.copy()\n",
    "sample = returns.iloc[:(returns.shape[0]-n_days_in), :].copy()\n",
    "\n",
    "correlation_matrix = sample.interpolate().corr()\n",
    "vals, vecs = np.linalg.eigh(correlation_matrix.values)\n"
   ]
  },
  {
   "cell_type": "markdown",
   "metadata": {},
   "source": [
    "Os autovalores e autovetores podem ser compreendidos como a decomposição de uma dada matriz. \n",
    "Portanto, o seguinte teste precisa passar "
   ]
  },
  {
   "cell_type": "code",
   "execution_count": 33,
   "metadata": {},
   "outputs": [],
   "source": [
    " assert np.abs(\n",
    "    np.dot(vecs, np.dot(np.diag(vals), np.transpose(vecs))).flatten()\n",
    "    - correlation_matrix.values.flatten()\n",
    " ).max() < 1e-10"
   ]
  },
  {
   "cell_type": "markdown",
   "metadata": {},
   "source": [
    "A distribuição de Marchenko-Pastur serve como um indicativo para nossa filtragem. O que faremos é jogar fora todos os autovalores \n",
    "que estão dentro da distribuição de Marchenko-Pastur, posteriormente reconstruiremos a matriz de correlação. "
   ]
  },
  {
   "cell_type": "code",
   "execution_count": 34,
   "metadata": {},
   "outputs": [],
   "source": [
    "T, N = returns.shape\n",
    "Q=T/N\n",
    "sigma = 1\n",
    "lp, lm = get_marchenko_bounds(Q, sigma)\n",
    "\n",
    "# Filter the eigenvalues out\n",
    "vals[vals <= lp ] = 0\n",
    "# Reconstruct the matrix\n",
    "filtered_matrix =  np.dot(vecs, np.dot(np.diag(vals), np.transpose(vecs)))\n",
    "np.fill_diagonal(filtered_matrix, 1)\n"
   ]
  },
  {
   "cell_type": "markdown",
   "metadata": {},
   "source": [
    "Com a matriz de correlação filtrada  você pode fazer o que bem entender com ela - existem outras maneiras de se realizar uma filtragem  - uma das possíveis aplicações que precisa ser utilizada com cuidado é usar tal matriz filtrada como input para algoritmos de otimização de carteira. Talvez faça um outro post descrevendo essa otimização de forma mais clara, mas esse não é meu enfoque nesse post e nem minha especialidade. Portanto, se você quiser dar uma lida recomendo os seguintes posts: [17, 18]\n",
    "\n",
    "\n",
    "O que você precisa saber é que uma matriz de covariância, $\\mathbf C_\\sigma$, adimite uma decomposição em relação a matriz de correlação atráves da seguinte forma \n",
    "\n",
    "$$\n",
    "\\mathbf C_\\sigma = \\mathbf D^{-1/2} \\mathbf C \\mathbf D^{-1/2}\n",
    "$$\n",
    "onde $\\mathbf D^{-1/2}$ é uma matriz diagonal com as entradas sendo os desvios padrão para cada serie de dados, isto é  \n",
    "$$\n",
    " \\begin{bmatrix} \n",
    " \\sigma_{1} &0 &\\cdots &0 \\\\\\\n",
    "  0 &\\sigma_{2} &\\cdots &0 \\\\\\\n",
    "    \\vdots &\\vdots &\\ddots &\\vdots \\\\\\\n",
    "    0 &0 &\\cdots &\\sigma_{M} \\end{bmatrix}\n",
    "$$\n",
    "\n",
    "Discutimos uma maneira de obter uma matriz de correlação filtrada, $\\mathbf{\\tilde C}$,  através de RMT,\n",
    "a ideia  é plugar essa nova matriz na equação anterior e obter uma nova matriz de covariância onde as informações menos relevantes foram eliminadas. \n",
    "\n",
    "$$\n",
    "\\mathbf{\\tilde  C_\\sigma} = \\mathbf D^{-1/2} \\mathbf{\\tilde C} \\mathbf D^{-1/2}.\n",
    "$$\n",
    "\n",
    "Tendo essa nova matriz de covâriancia filtrada agora basta você ingerir ela em algum método preferido para otimização e comparar com o resultado obtido usando a matriz original.  Aqui usaremos o clássico Markowitz"
   ]
  },
  {
   "cell_type": "code",
   "execution_count": 35,
   "metadata": {},
   "outputs": [],
   "source": [
    "# Reconstruct the filtered covariance matrix\n",
    "covariance_matrix = sample.cov()\n",
    "inv_cov_mat = np.linalg.pinv(covariance_matrix)\n",
    "\n",
    "# Construct minimum variance weights\n",
    "ones = np.ones(len(inv_cov_mat))\n",
    "inv_dot_ones = np.dot(inv_cov_mat, ones)\n",
    "min_var_weights = inv_dot_ones/ np.dot( inv_dot_ones , ones)\n",
    "\n",
    "\n",
    "\n",
    "variances = np.diag(sample.cov().values)\n",
    "standard_deviations = np.sqrt(variances) \n",
    "\n",
    "D = np.diag(standard_deviations)\n",
    "filtered_cov = np.dot(D ,np.dot(filtered_matrix,D))\n",
    "filtered_cov = filtered_matrix\n",
    "\n",
    "filtered_cov = (np.dot(np.diag(standard_deviations), \n",
    "            np.dot(filtered_matrix,np.diag(standard_deviations))))\n",
    "\n",
    "filt_inv_cov = np.linalg.pinv(filtered_cov)\n",
    "\n",
    "# Construct minimum variance weights\n",
    "ones = np.ones(len(filt_inv_cov))\n",
    "inv_dot_ones = np.dot(filt_inv_cov, ones)\n",
    "filt_min_var_weights = inv_dot_ones/ np.dot( inv_dot_ones , ones)\n",
    "def get_cumulative_returns_over_time(sample, weights):\n",
    "    weights[weights <= 0 ] = 0 \n",
    "    weights = weights / weights.sum()\n",
    "    return (((1+sample).cumprod(axis=0))-1).dot(weights)\n",
    "    \n",
    "cumulative_returns = get_cumulative_returns_over_time(returns, min_var_weights).values\n",
    "cumulative_returns_filt = get_cumulative_returns_over_time(returns, filt_min_var_weights).values\n",
    "\n",
    "\n"
   ]
  },
  {
   "cell_type": "code",
   "execution_count": 37,
   "metadata": {},
   "outputs": [],
   "source": [
    "\n",
    "in_sample_ind = np.arange(0, (returns.shape[0]-n_days_in+1))\n",
    "out_sample_ind = np.arange((returns.shape[0]-n_days_in), returns.shape[0])\n",
    "f = plt.figure()\n",
    "\n",
    "ax = plt.subplot(111)\n",
    "points = np.arange(0, len(cumulative_returns))[out_sample_ind]\n",
    "ax.plot(points, cumulative_returns[out_sample_ind], 'orange', linestyle='--', label='original')\n",
    "\n",
    "ax.plot(points, cumulative_returns_filt[out_sample_ind], 'b', linestyle='-.', label='filtrado')\n",
    "ymax = max(cumulative_returns[out_sample_ind].max(), cumulative_returns_filt[out_sample_ind].max())\n",
    "ymin = min(cumulative_returns[out_sample_ind].min(), cumulative_returns_filt[out_sample_ind].min())\n",
    "plt.legend()\n",
    "plt.savefig('comp.png', facecolor='w')\n",
    "plt.close()\n"
   ]
  },
  {
   "cell_type": "markdown",
   "metadata": {},
   "source": [
    "![](comp.png)"
   ]
  },
  {
   "cell_type": "markdown",
   "metadata": {},
   "source": [
    "Obtivemos uma melhora, mas novamente ressaltamos que uma analise mais criteriosa deveria ter sido feita. Vamos listar alguns pontos\n",
    "\n",
    "1.  Em relação a questão da escolha do intervalo de tempo. Isto é, se o tamanho foi pequeno de mais para capturar a correlação ou se foi grande de mais tal que as correlações entre ativos não são estacionárias.\n",
    "2. O (não) uso do  $\\log$-retorno e seu impacto\n",
    "3. Uma escolha não aleatória do que seria analisado \n",
    "4. Métodos de unfolding dos autovalores (tema para outro post)"
   ]
  },
  {
   "cell_type": "markdown",
   "metadata": {},
   "source": [
    "# 5 - Vantagens, críticas e sugestões\n",
    "\n",
    "Você poderá encontrar alguns trabalhos e posts descrevendo o uso de matrizes aleatórias para filtragem de matrizes de correlação sem uma boa crítica ou explicitação das limitações vou linkar aqui alguns pontos positivos e negativos e limitações\n",
    "\n",
    "## Onde realmente RMT se mostrou útil\n",
    "\n",
    "  - Obviamente a RMT é indiscutivelmente bem sucedida na matemática e física permitindo compreender sistemas apenas analisando a estatística dos *gases matriciais*.\n",
    "  - Em machine learning a RMT também está provando ser uma ferramenta útil para compreender e melhorar o processo de aprendizado [15].\n",
    "  - Entender comportamentos de sistemas sociais, biológicos e econômicos. Aqui com entender o comportamento digo apenas saber se um dado segue uma característica dada por alguma lei específica como a lei de semicírculo. Isto é, não existe discussão em você pegar um dado sistema que é representado por uma matriz, estudar o comportamento do seu espectro de autovalores e autovetores e verificar que seguem algumas lei de universalidade. **Isso é bem diferente de dizer que se você filtrar uma matriz de correlação via RMT você irá obter sempre resultados melhores.**\n",
    "  \n",
    "## Limitações\n",
    "  - Note que não realizamos nenhum tipo de teste para decidir se realmente a distribuição de autovalores era a distribuição desejada. Baseamos isso só no olhometro, obviamente não é uma boa ideia. \n",
    "  - A filtragem apenas removendo os autovalores apesar de simples é limitada e pode ser contra produtiva, outros métodos de filtragem podem ser inclusive melhores[14]. Inclusive não é uma das únicas aplicações de RMT para tratamento desse tipo de dado [16]\n",
    "\n",
    "## Para conhecer mais\n",
    "\n",
    "### Ciêntistas\n",
    "- Alguns grandes nomes de RMT: Madan Lal Mehta, Freeman Dyson e Terrence Tao\n",
    "- Alguns brasileiros: Marcel Novaes autor do livro [Introduction to Random Matrices - Theory and Practice](https://link.springer.com/book/10.1007/978-3-319-70885-0)-[arxiv](https://arxiv.org/abs/1712.07903); Fernando Lucas Metz trabalhou com o Nobel Giorgio Parisi.\n",
    "\n",
    "### Encontrou um erro ou quer melhorar esse texto?\n",
    "\n",
    "- Faça sua contribuição   criando uma [issue](https://github.com/devmessias/devmessias.github.io/issues/new) ou um PR editando esse arquivo aqui [random_matrix_theory/index.md](https://github.com/devmessias/devmessias.github.io/blob/master/content/post/random_matrix_theory/index.md).\n"
   ]
  },
  {
   "cell_type": "markdown",
   "metadata": {},
   "source": [
    "# 6-Referências\n",
    "\n",
    "- [1] M. Kac, “Can One Hear the Shape of a Drum?,” The American Mathematical Monthly, vol. 73, no. 4, p. 1, Apr. 1966, doi: 10.2307/2313748.\n",
    "- [2] Wigner, E.P., 1957. Statistical properties of real symmetric matrices with many dimensions (pp. 174-184). Princeton University.\n",
    "- [4] “From Prime Numbers to Nuclear Physics and Beyond,” Institute for Advanced Study. https://www.ias.edu/ideas/2013/primes-random-matrices (accessed Sep. 30, 2020).\n",
    "- [5] “GUE hypothesis,” What’s new. https://terrytao.wordpress.com/tag/gue-hypothesis/ (accessed Nov. 22, 2021).\n",
    "- [6] R. Hudson and A. Gregoriou, “Calculating and Comparing Security Returns is Harder than you Think: A Comparison between Logarithmic and Simple Returns,” Social Science Research Network, Rochester, NY, SSRN Scholarly Paper ID 1549328, Feb. 2010. doi: 10.2139/ssrn.1549328.\n",
    "- [7] A. Meucci, “Quant Nugget 2: Linear vs. Compounded Returns – Common Pitfalls in Portfolio Management,” Social Science Research Network, Rochester, NY, SSRN Scholarly Paper ID 1586656, May 2010. Accessed: Dec. 01, 2021. [Online]. Available: https://papers.ssrn.com/abstract=1586656\n",
    "- [8] Lidian, “Analysis on Stocks: Log(1+return) or Simple Return?,” Medium, Sep. 18, 2020. https://medium.com/@huangchingchiu/analysis-on-stocks-log-1-return-or-simple-return-371c3f60fab2 (accessed Nov. 25, 2021).\n",
    "- [9] N. A. Eterovic and D. S. Eterovic, “Separating the Wheat from the Chaff: Understanding Portfolio Returns in an Emerging Market,” Social Science Research Network, Rochester, NY, SSRN Scholarly Paper ID 2161646, Oct. 2012. doi: 10.2139/ssrn.2161646.\n",
    "- [10] E. P. Wigner, “Characteristic Vectors of Bordered Matrices With Infinite Dimensions,” Annals of Mathematics, vol. 62, no. 3, pp. 548–564, 1955, doi: 10.2307/1970079.\n",
    "- [11] E. P. Wigner, “On the statistical distribution of the widths and spacings of nuclear resonance levels,” Mathematical Proceedings of the Cambridge Philosophical Society, vol. 47, no. 4, pp. 790–798, Oct. 1951, doi: 10.1017/S0305004100027237.\n",
    "- [13] F. W. K. Firk and S. J. Miller, “Nuclei, Primes and the Random Matrix Connection,” Symmetry, vol. 1, no. 1, pp. 64–105, Sep. 2009, doi: 10.3390/sym1010064.\n",
    "- [14] L. Sandoval, A. B. Bortoluzzo, and M. K. Venezuela, “Not all that glitters is RMT in the forecasting of risk of portfolios in the Brazilian stock market,” Physica A: Statistical Mechanics and its Applications, vol. 410, pp. 94–109, Sep. 2014, doi: 10.1016/j.physa.2014.05.006.\n",
    "- [15] M. E. A. Seddik, C. Louart, M. Tamaazousti, and R. Couillet, “Random Matrix Theory Proves that Deep Learning Representations of GAN-data Behave as Gaussian Mixtures,” arXiv:2001.08370 [cs, stat], Jan. 2020, Accessed: Dec. 05, 2021. [Online]. Available: http://arxiv.org/abs/2001.08370\n",
    "- [16] D. B. Aires, “Análise de crises financeiras brasileiras usando teoria das matrizes aleatórias,” Universidade Estadual Paulista (Unesp), 2021. Accessed: Dec. 05, 2021. [Online]. Available: https://repositorio.unesp.br/handle/11449/204550\n",
    "\n",
    "- [17] S. Rome, “Eigen-vesting II. Optimize Your Portfolio With Optimization,” Scott Rome, Mar. 22, 2016. http://srome.github.io//Eigenvesting-II-Optimize-Your-Portfolio-With-Optimization/ (accessed Dec. 05, 2021).\n",
    "- [18] “11.1 Portfolio Optimization — MOSEK Fusion API for Python 9.3.10.” https://docs.mosek.com/latest/pythonfusion/case-studies-portfolio.html (accessed Dec. 05, 2021).\n",
    "\n",
    "\n",
    "\n"
   ]
  },
  {
   "cell_type": "code",
   "execution_count": 7,
   "metadata": {},
   "outputs": [
    {
     "name": "stdout",
     "output_type": "stream",
     "text": [
      "[NbConvertApp] Converting notebook index.ipynb to markdown\n",
      "[NbConvertApp] Writing 36761 bytes to index.md\n"
     ]
    }
   ],
   "source": [
    "!jupyter nbconvert --to markdown index.ipynb"
   ]
  },
  {
   "cell_type": "code",
   "execution_count": null,
   "metadata": {},
   "outputs": [],
   "source": []
  }
 ],
 "metadata": {
  "interpreter": {
   "hash": "cb489cb266766f8ed532eed83fba25aa0113e7044bc1ef55159ca58f22f89db0"
  },
  "kernelspec": {
   "display_name": "Python 3.6.13 64-bit ('py36': conda)",
   "language": "python",
   "name": "python3"
  },
  "language_info": {
   "codemirror_mode": {
    "name": "ipython",
    "version": 3
   },
   "file_extension": ".py",
   "mimetype": "text/x-python",
   "name": "python",
   "nbconvert_exporter": "python",
   "pygments_lexer": "ipython3",
   "version": "3.8.5"
  },
  "orig_nbformat": 4
 },
 "nbformat": 4,
 "nbformat_minor": 2
}
